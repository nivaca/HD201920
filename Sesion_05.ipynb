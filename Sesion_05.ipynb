{
 "cells": [
  {
   "cell_type": "markdown",
   "metadata": {},
   "source": [
    "# [Herramientas digitales — Módulo 1: Texto digital (201920)](HD_Texto_Digital.ipynb)\n",
    "\n",
    "## [Maestría en Humanidades Digitales, Universidad de los Andes](https://posgradosfacartes.uniandes.edu.co/programas/humanidades-digitales/)\n",
    "\n",
    "#### [Nicolás Vaughan](http://nicolasvaughan.org/)\n",
    "\n",
    "## Sesión 5: Introducción a TEI"
   ]
  },
  {
   "cell_type": "markdown",
   "metadata": {},
   "source": [
    "Descaguen e instalen en su equipo el Oxygen XML  \n",
    "\n",
    "- https://www.oxygenxml.com/xml_editor/download_oxygenxml_editor.html\n",
    "    \n",
    "Regístrenlo con sus datos (con la cuenta de prueba que crearon en casa)."
   ]
  },
  {
   "cell_type": "markdown",
   "metadata": {},
   "source": [
    "Bajen los dos archivos siguientes y ábranlos en Microsoft Word:\n",
    "\n",
    "- https://github.com/nivaca/HD201920/blob/master/Prueba.docx\n",
    "- https://github.com/nivaca/HD201920/blob/master/Prueba.rtf"
   ]
  },
  {
   "cell_type": "markdown",
   "metadata": {},
   "source": [
    "### Algunos ejemplos interesantes de TEI\n",
    "\n",
    "- Scholastic Commentaries Text Archive (SCTA): http://scta.lombardpress.org\n",
    "- Perseus Project: http://www.perseus.tufts.edu\n",
    "- Folger Digital Texts: https://www.folgerdigitaltexts.org\n",
    "- Oxford Digital library: http://www.odl.ox.ac.uk\n",
    "- Biblioteca Digital del Pensamiento Novohispano: http://www.bdpn.unam.mx/\n",
    "- ...\n",
    "\n",
    "Para una lista (incompleta) de proyectos, ver https://tei-c.org/Activities/Projects/"
   ]
  },
  {
   "cell_type": "markdown",
   "metadata": {},
   "source": [
    "#### Bajen los siguientes archivos y ábranlos en Oxygen XML Editor:\n",
    "\n",
    "-\n",
    "-\n",
    "-\n",
    "\n"
   ]
  },
  {
   "cell_type": "markdown",
   "metadata": {},
   "source": [
    "En Oxygen, creen un nuevo archivo (`File->New`) de tipo `TEI P5 Lite`.\n",
    "\n",
    "Oxygen creará un archivo basado en una plantilla como esta:\n",
    "\n",
    "```XML\n",
    "<?xml version=\"1.0\" encoding=\"UTF-8\"?>\n",
    "<?xml-model href=\"http://www.tei-c.org/release/xml/tei/custom/schema/relaxng/tei_lite.rng\" type=\"application/xml\" schematypens=\"http://relaxng.org/ns/structure/1.0\"?>\n",
    "<?xml-model href=\"http://www.tei-c.org/release/xml/tei/custom/schema/relaxng/tei_lite.rng\" type=\"application/xml\" schematypens=\"http://purl.oclc.org/dsdl/schematron\"?>\n",
    "<TEI xmlns=\"http://www.tei-c.org/ns/1.0\">\n",
    "  <teiHeader>\n",
    "      <fileDesc>\n",
    "         <titleStmt>\n",
    "            <title>Title</title>\n",
    "         </titleStmt>\n",
    "         <publicationStmt>\n",
    "            <p>Publication information</p>        \n",
    "         </publicationStmt>\n",
    "         <sourceDesc>\n",
    "            <p>Information about the source</p>\n",
    "         </sourceDesc>\n",
    "      </fileDesc>\n",
    "  </teiHeader>\n",
    "  <text>\n",
    "      <body>\n",
    "         <p>Some text here.</p>\n",
    "         <figure>\n",
    "            <graphic url=\"http://www.tei-c.org/logos/TEI-glow.png\"/>\n",
    "         </figure>\n",
    "      </body>\n",
    "  </text>\n",
    "</TEI>\n",
    "```"
   ]
  },
  {
   "cell_type": "markdown",
   "metadata": {},
   "source": [
    "#### La carta de Julio Cortázar a Jorge Luis Borges (agosto de 1947)\n",
    "\n",
    "![Carta de Cortázar a Borges](https://github.com/nivaca/HD201920/blob/master/Cortazar_Borges.jpg?raw=true)"
   ]
  },
  {
   "cell_type": "code",
   "execution_count": null,
   "metadata": {},
   "outputs": [],
   "source": []
  }
 ],
 "metadata": {
  "celltoolbar": "Raw Cell Format",
  "kernelspec": {
   "display_name": "Python 3",
   "language": "python",
   "name": "python3"
  },
  "language_info": {
   "codemirror_mode": {
    "name": "ipython",
    "version": 3
   },
   "file_extension": ".py",
   "mimetype": "text/x-python",
   "name": "python",
   "nbconvert_exporter": "python",
   "pygments_lexer": "ipython3",
   "version": "3.7.4"
  }
 },
 "nbformat": 4,
 "nbformat_minor": 2
}
