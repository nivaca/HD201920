{
 "cells": [
  {
   "cell_type": "markdown",
   "metadata": {
    "collapsed": true
   },
   "source": [
    "# Cadenas (Strings)\n",
    "\n",
    "## Temas\n",
    "1. Cómo crear una cadena\n",
    "2. Interpolación de cadenas\n",
    "3. Concatenación de cadenas"
   ]
  },
  {
   "cell_type": "markdown",
   "metadata": {},
   "source": [
    "## Cómo conseguir una cadena\n",
    "\n",
    "Encierra los caracteres entre comillas dobles (\" \") o simples (' ')."
   ]
  },
  {
   "cell_type": "code",
   "execution_count": null,
   "metadata": {},
   "outputs": [],
   "source": [
    "s1 = \"Yo soy una cadena\""
   ]
  },
  {
   "cell_type": "code",
   "execution_count": null,
   "metadata": {},
   "outputs": [],
   "source": [
    "s2 = 'Yo también soy una cadena'"
   ]
  },
  {
   "cell_type": "markdown",
   "metadata": {},
   "source": [
    "Es posible usar unas dentro de otras así:"
   ]
  },
  {
   "cell_type": "code",
   "execution_count": null,
   "metadata": {},
   "outputs": [],
   "source": [
    "'Esto es correcto: \"mi cadena\" '"
   ]
  },
  {
   "cell_type": "code",
   "execution_count": null,
   "metadata": {},
   "outputs": [],
   "source": [
    "\"Esto es correcto: 'mi cadena' \""
   ]
  },
  {
   "cell_type": "markdown",
   "metadata": {},
   "source": [
    "Pero esto es un error:"
   ]
  },
  {
   "cell_type": "code",
   "execution_count": null,
   "metadata": {},
   "outputs": [],
   "source": [
    "\" Esto es un error: \"mi cadena\" \""
   ]
  },
  {
   "cell_type": "markdown",
   "metadata": {},
   "source": [
    "NOTA: En Python 3 todas las cadenas por default son del tipo Unicode UTF-8. Esto significa que podemos usar acentos, etc., sin requerir bibliotecas o conversiones adicionales."
   ]
  },
  {
   "cell_type": "markdown",
   "metadata": {},
   "source": [
    "También podemos usar explícitamente cadenas de múltiples líneas de texto. Para ello, las encerramos en triples comillas (sencillas o dobles):"
   ]
  },
  {
   "cell_type": "code",
   "execution_count": null,
   "metadata": {},
   "outputs": [],
   "source": [
    "a = \"\"\"\n",
    "Esta es una\n",
    "\n",
    "cadena\n",
    "\n",
    "\n",
    "\n",
    "de múltiples líneas\n",
    "\"\"\"\n",
    "print(a)"
   ]
  },
  {
   "cell_type": "markdown",
   "metadata": {},
   "source": [
    "## Interpolación de cadenas\n",
    "\n",
    "Python permite interpolar cadenas de muchas formas. La primera es con el caracter `%s`, por ejemplo:"
   ]
  },
  {
   "cell_type": "code",
   "execution_count": null,
   "metadata": {},
   "outputs": [],
   "source": [
    "nombre = 'mundo'\n",
    "programa ='Python'\n",
    "print(\"¡Hola %s! Este es %s.\"%(nombre, programa))"
   ]
  },
  {
   "cell_type": "markdown",
   "metadata": {},
   "source": [
    "Desde Python 3.6 hay otro método más fácil con las denominadas \"cadenas-f\", por ejemplo:"
   ]
  },
  {
   "cell_type": "code",
   "execution_count": null,
   "metadata": {},
   "outputs": [],
   "source": [
    "nombre = 'mundo'\n",
    "programa ='Python'\n",
    "print(f\"¡Hola {nombre}! Este es {programa}.\")"
   ]
  },
  {
   "cell_type": "markdown",
   "metadata": {},
   "source": [
    "## Concatenación de cadenas\n",
    "\n",
    "Hay varias formas de concatenar (pegar) cadenas en Python.\n",
    "\n",
    "### La primera usa el caracter `+` para eso, por ejemplo:"
   ]
  },
  {
   "cell_type": "code",
   "execution_count": null,
   "metadata": {},
   "outputs": [],
   "source": []
  },
  {
   "cell_type": "code",
   "execution_count": null,
   "metadata": {},
   "outputs": [],
   "source": [
    "a = \"Universidad \"\n",
    "b = \"de \"\n",
    "c = \"los \"\n",
    "d = \"Andes\"\n",
    "todo = a + b + c +  d\n",
    "print(todo)"
   ]
  },
  {
   "cell_type": "markdown",
   "metadata": {},
   "source": [
    "En el ejemplo anterior, noten los espacios en blancos al final de las primeras tres cadenas. Otra forma sería:"
   ]
  },
  {
   "cell_type": "code",
   "execution_count": null,
   "metadata": {},
   "outputs": [],
   "source": [
    "a = \"Universidad\"\n",
    "b = \"de\"\n",
    "c = \"los\"\n",
    "d = \"Andes\"\n",
    "bl = \" \"\n",
    "todo = a + bl + b + bl + c + bl + d\n",
    "print(todo)"
   ]
  },
  {
   "cell_type": "markdown",
   "metadata": {},
   "source": [
    "### Otra forma para concatenar con las cadenas-f, así:"
   ]
  },
  {
   "cell_type": "code",
   "execution_count": null,
   "metadata": {},
   "outputs": [],
   "source": [
    "a = \"Universidad\"\n",
    "b = \"de\"\n",
    "c = \"los\"\n",
    "d = \"Andes\"\n",
    "todo = f\"{a} {b} {c} {d}\"\n",
    "print(todo)"
   ]
  },
  {
   "cell_type": "markdown",
   "metadata": {},
   "source": [
    "### Los creadores de Python recomiendan usar el operador `+=` para concatenar.\n",
    "Nota: `a = a + b`\n",
    "es equivalente a \n",
    "`a += b`\n",
    "\n",
    "Por ejemplo:"
   ]
  },
  {
   "cell_type": "code",
   "execution_count": null,
   "metadata": {},
   "outputs": [],
   "source": [
    "a = \"Universidad\"\n",
    "b = \"de\"\n",
    "c = \"los\"\n",
    "d = \"Andes\"\n",
    "todo = \"\" # esto lo necesitamos porque la variable `todo` ya tiene contenido (asignado en una celda anterior)\n",
    "todo += a\n",
    "todo += \" \"\n",
    "todo += b\n",
    "todo += \" \"\n",
    "todo += c\n",
    "todo += \" \"\n",
    "todo += d\n",
    "print(todo)"
   ]
  },
  {
   "cell_type": "markdown",
   "metadata": {},
   "source": [
    "## Dentro de las cadenas\n",
    "\n",
    "Las cadenas son precisamente eso: *cadenas* de caracteres. Podemos acceder a ellos con los índices encerrados entre corchetes cuadrados. El índice 0 es el primer caracter y el -i es, por definición, el último. Por ejemplo:"
   ]
  },
  {
   "cell_type": "code",
   "execution_count": null,
   "metadata": {},
   "outputs": [],
   "source": [
    "a = \"mi cadena!\"\n",
    "print(a[0])\n",
    "print(a[2])\n",
    "print(a[-1])"
   ]
  }
 ],
 "metadata": {
  "kernelspec": {
   "display_name": "Python 3",
   "language": "python",
   "name": "python3"
  },
  "language_info": {
   "codemirror_mode": {
    "name": "ipython",
    "version": 3
   },
   "file_extension": ".py",
   "mimetype": "text/x-python",
   "name": "python",
   "nbconvert_exporter": "python",
   "pygments_lexer": "ipython3",
   "version": "3.7.4"
  }
 },
 "nbformat": 4,
 "nbformat_minor": 2
}
