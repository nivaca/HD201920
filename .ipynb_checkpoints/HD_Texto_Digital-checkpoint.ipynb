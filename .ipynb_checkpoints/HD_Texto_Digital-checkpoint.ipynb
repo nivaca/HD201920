{
 "cells": [
  {
   "cell_type": "markdown",
   "metadata": {},
   "source": [
    "# Herramientas digitales — Módulo 1: Texto digital (201920)\n",
    "\n",
    "## [Maestría en Humanidades Digitales, Universidad de los Andes](https://posgradosfacartes.uniandes.edu.co/programas/humanidades-digitales/)\n",
    "\n",
    "## [Nicolás Vaughan](http://nicolasvaughan.org/)\n",
    "\n",
    "\n",
    "\n"
   ]
  },
  {
   "cell_type": "markdown",
   "metadata": {},
   "source": [
    "***  "
   ]
  },
  {
   "cell_type": "markdown",
   "metadata": {},
   "source": [
    "\n",
    "# Sesiones\n",
    "## [1. Introducción al terminal, Git, RegEx, Markdown y Pandoc](Sesion_01.ipynb)\n",
    "## 2. Taller\n",
    "## [3. Introducción a Python](Sesion_03.ipynb)\n",
    "## 4. Taller\n",
    "## [5. Introducción a TEI](Sesion_05.ipynb)"
   ]
  },
  {
   "cell_type": "markdown",
   "metadata": {},
   "source": [
    "***"
   ]
  },
  {
   "cell_type": "markdown",
   "metadata": {},
   "source": [
    "\n",
    "## Software que usaremos\n",
    "- **Iterm2** es un terminal para MacOS: https://www.iterm2.com/\n",
    "- **Bash** es el shell estándar de MacOS y Linux: https://www.gnu.org/software/bash/ (aunque también podríamos usar **Zsh**, que es más poderoso: http://zsh.sourceforge.net/)\n",
    "- **Pandoc**, para convertir formatos de documento: https://pandoc.org/\n",
    "- **Python**, el lenguaje de programación que usaremos: https://www.python.org/\n",
    "- **Jupyter Notebooks**, simplifica el trabajo con Python: https://jupyter.org/\n",
    "- **Anaconda**, distribución de Python que incluye Jupyter y muchas librerías adicionales: https://www.anaconda.com/distribution/\n",
    "- **Atom**, un editor de texto para programadores: https://atom.io\n",
    "- **Home Brew**, manejador de paquetes para MacOS: https://brew.sh/\n",
    "- **Git**, software de control de versiones: https://git-scm.com/\n",
    "\n",
    "\n",
    "## Páginas web\n",
    "### Bash\n",
    "- Man pages en línea: https://www.mankier.com/\n",
    "- Referencia: https://www.tutorialspoint.com/unix_commands/bash.htm\n",
    "- Referencia y tutorial Unix (aplicable a Linux y MacOS): https://www.tutorialspoint.com/unix/\n",
    "- Cómo instalar y configurar Bash en Windows 10: https://www.howtogeek.com/249966/how-to-install-and-use-the-linux-bash-shell-on-windows-10/\n",
    "\n",
    "\n",
    "### Git\n",
    "- Wikipedia: https://es.wikipedia.org/wiki/Git\n",
    "- Tutorial: https://www.tutorialspoint.com/git/index.htm\n",
    "- Git Handbook: https://guides.github.com/introduction/git-handbook/\n",
    "- Git Cheatsheet (español): https://github.github.com/training-kit/downloads/es_ES/github-git-cheat-sheet/\n",
    "- Git Cheatsheet (inglés): https://github.github.com/training-kit/downloads/github-git-cheat-sheet/\n",
    "\n",
    "### Sobre expresiones regulares (RegEx)\n",
    "- https://daringfireball.net/projects/markdown/syntax\n",
    "- https://www.regular-expressions.info/\n",
    "- https://regexone.com/\n",
    "- https://en.wikipedia.org/wiki/Regular_expression\n",
    "\n",
    "\n",
    "### Python\n",
    "- Tutorial general: https://www.w3schools.com/python/default.asp\n",
    "- Tutorial RegEx: https://www.w3schools.com/python/python_regex.asp\n",
    "- Referencia RegEx: https://docs.python.org/3/library/re.html\n",
    "- Text Processing: https://medium.com/@datamonsters/text-preprocessing-in-python-steps-tools-and-examples-bf025f872908\n",
    "- Text Processing: https://www.analyticsvidhya.com/blog/2018/02/the-different-methods-deal-text-data-predictive-python/\n",
    "- Text Processing: https://devarea.com/python-text-processing-introduction/\n",
    "- Text Processing: https://webcache.googleusercontent.com/search?q=cache:WiOhpzIBfJ0J:https://www.tutorialspoint.com/python/python_text_processing+&cd=1&hl=en&ct=clnk&gl=us (en el cache de Google)\n",
    "\n",
    "\n",
    "## Bibliografía\n",
    "- Burnard, Lou. *What is the Text Encoding Initiative? How to add intelligent markup to digital resources.* Marseille: OpenEdition, 2014. \n",
    "- Cagle, Kurt & Hunter, David. *Beginning XML.* Birmingham: Wrox, 2000. https://univdelosandes.on.worldcat.org/oclc/318216880 \n",
    "- Harrison, Matt (2017). *Illustrated Guide to Python 3. A Complete Walkthrough of Beginning Python with Unique Illustrations Showing How Python Really Works*, 2017. hairysun.com \n",
    "- Ide, Nancy M. & Veronis, Jean (1998). *Text Encoding Initiative: Background and Context.* Dordrecht/London: Kluwer. \n",
    "- Ramalho, Luciano (2016). *Fluent Python.* Boston: O'Reilly. \n",
    "- Stephenson, B. (2019). *The Python Workbook: A Brief Introduction with Exercises and Solutions*. 2nd. ed. Cham, Switzerland: Springer.\n",
    "- Tigeraniya, Arun. *Python unlocked: become more fluent in Python. Learn strategies and techniques for smart and high-performance Python programming.* Birmingham: Packt. 2016. https://univdelosandes.on.worldcat.org/oclc/935333558 "
   ]
  }
 ],
 "metadata": {
  "kernelspec": {
   "display_name": "Python 3",
   "language": "python",
   "name": "python3"
  },
  "language_info": {
   "codemirror_mode": {
    "name": "ipython",
    "version": 3
   },
   "file_extension": ".py",
   "mimetype": "text/x-python",
   "name": "python",
   "nbconvert_exporter": "python",
   "pygments_lexer": "ipython3",
   "version": "3.7.3"
  }
 },
 "nbformat": 4,
 "nbformat_minor": 2
}
