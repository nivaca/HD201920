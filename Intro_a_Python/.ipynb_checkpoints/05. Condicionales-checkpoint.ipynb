{
 "cells": [
  {
   "cell_type": "markdown",
   "metadata": {
    "collapsed": true
   },
   "source": [
    "# Condicionales\n",
    "\n",
    "En Python, la sintaxis simple es:\n",
    "\n",
    "```python\n",
    "if condición:\n",
    "    resultado\n",
    "```\n",
    "\n",
    "La condición puede ser cualquier operador que sea verdadera o falsa (`True`, `False`),<sup>[1](#myfootnote1)</sup> por ejemplo:\n",
    "\n",
    "- Igual a: `a == b`\n",
    "- No igual a: `a != b`\n",
    "- Menor que: `a < b`\n",
    "- Menor o igual a: `a <= b`\n",
    "- Mayor que: `a > b`\n",
    "- Mayor o igual a: `a >= b`\n",
    "\n",
    "así como los operadores lógicos\n",
    "\n",
    "- conjunción: `and`\n",
    "- disyunción: `or`\n",
    "- negación: `not`\n",
    "\n",
    "También son últiles los operadores `in` (continencia) e `is` (identidad de objeto).\n",
    "\n",
    "Algunos ejemplos de condicionales simples:"
   ]
  },
  {
   "cell_type": "code",
   "execution_count": null,
   "metadata": {},
   "outputs": [],
   "source": [
    "respuesta = input(\"¿Cuál es su edad? \")\n",
    "edad = int(respuesta)\n",
    "if edad >= 18:\n",
    "    print(\"Usted es mayor de edad.\")"
   ]
  },
  {
   "cell_type": "code",
   "execution_count": null,
   "metadata": {},
   "outputs": [],
   "source": [
    "respuesta = input(\"¿Cuál es su edad? \")\n",
    "edad = int(respuesta)   \n",
    "if edad < 18:\n",
    "    print(\"Usted es menor de edad.\")"
   ]
  },
  {
   "cell_type": "code",
   "execution_count": null,
   "metadata": {},
   "outputs": [],
   "source": [
    "clave = input(\"Introduzca su contraseña: \")\n",
    "if clave == \"qwerty\":\n",
    "    print(\"contraseña correcta\")"
   ]
  },
  {
   "cell_type": "code",
   "execution_count": null,
   "metadata": {},
   "outputs": [],
   "source": [
    "amigo = input(\"¿Cuál es su nombre? \")\n",
    "if amigo not in [\"Carlos\", \"Hans\", \"Douglas\"]:\n",
    "    print(\"¡Usted no es mi amigo!\")"
   ]
  },
  {
   "cell_type": "markdown",
   "metadata": {
    "collapsed": true
   },
   "source": [
    "# Sintaxis compleja\n",
    "\n",
    "```python\n",
    "if condición_1:\n",
    "  resultado_1\n",
    "elif condición_2:\n",
    "  resultado_2\n",
    "# ...\n",
    "elif condición_n:\n",
    "    resultado_n:\n",
    "else:\n",
    "  resultado_final\n",
    "```"
   ]
  },
  {
   "cell_type": "code",
   "execution_count": null,
   "metadata": {},
   "outputs": [],
   "source": [
    "respuesta = input(\"¿Cuál es su edad? \")\n",
    "edad = int(respuesta)   \n",
    "if edad < 18:\n",
    "    print(\"Usted es menor de edad.\")\n",
    "else:\n",
    "    print(\"Usted es mayor de edad.\")"
   ]
  },
  {
   "cell_type": "code",
   "execution_count": null,
   "metadata": {},
   "outputs": [],
   "source": [
    "amigo = input(\"¿Cuál es su nombre? \")\n",
    "if amigo == \"Carlos\":\n",
    "    print(f\"{amigo}, nos vemos a las 5:00pm.\")\n",
    "elif amigo == \"Hans\":\n",
    "    print(f\"{amigo}, hoy no nos podemos ver.\")\n",
    "elif amigo == \"Douglas\":\n",
    "    print(f\"{amigo}, lo llamo en la noche.\")\n",
    "else:\n",
    "    print(\"¡Usted no es mi amigo!\")"
   ]
  },
  {
   "cell_type": "markdown",
   "metadata": {},
   "source": [
    "# Sintaxis abreviada (en una sola línea)\n",
    "## Simple:\n",
    "\n",
    "```python\n",
    "if condición: resultado\n",
    "```\n",
    "\n",
    "## Con `else`:\n",
    "\n",
    "```python\n",
    "resultado_1 if condición else resultado_2\n",
    "```\n",
    "\n",
    "Por ejemplo:"
   ]
  },
  {
   "cell_type": "code",
   "execution_count": null,
   "metadata": {},
   "outputs": [],
   "source": [
    "respuesta = input(\"¿Cuál es su edad? \")\n",
    "edad = int(respuesta)   \n",
    "if edad < 18: print(\"Usted es menor de edad.\")"
   ]
  },
  {
   "cell_type": "code",
   "execution_count": 3,
   "metadata": {},
   "outputs": [
    {
     "name": "stdout",
     "output_type": "stream",
     "text": [
      "¿Cuál es su edad? d\n"
     ]
    },
    {
     "ename": "ValueError",
     "evalue": "invalid literal for int() with base 10: 'd'",
     "output_type": "error",
     "traceback": [
      "\u001b[0;31m------------------------------------------------------------------------\u001b[0m",
      "\u001b[0;31mValueError\u001b[0m                             Traceback (most recent call last)",
      "\u001b[0;32m<ipython-input-3-d6d5b7e0d8e1>\u001b[0m in \u001b[0;36m<module>\u001b[0;34m\u001b[0m\n\u001b[1;32m      1\u001b[0m \u001b[0mrespuesta\u001b[0m \u001b[0;34m=\u001b[0m \u001b[0minput\u001b[0m\u001b[0;34m(\u001b[0m\u001b[0;34m\"¿Cuál es su edad? \"\u001b[0m\u001b[0;34m)\u001b[0m\u001b[0;34m\u001b[0m\u001b[0;34m\u001b[0m\u001b[0m\n\u001b[0;32m----> 2\u001b[0;31m \u001b[0medad\u001b[0m \u001b[0;34m=\u001b[0m \u001b[0mint\u001b[0m\u001b[0;34m(\u001b[0m\u001b[0mrespuesta\u001b[0m\u001b[0;34m)\u001b[0m\u001b[0;34m\u001b[0m\u001b[0;34m\u001b[0m\u001b[0m\n\u001b[0m\u001b[1;32m      3\u001b[0m \u001b[0mprint\u001b[0m\u001b[0;34m(\u001b[0m\u001b[0;34m\"Usted es menor de edad.\"\u001b[0m\u001b[0;34m)\u001b[0m \u001b[0;32mif\u001b[0m \u001b[0medad\u001b[0m \u001b[0;34m<\u001b[0m \u001b[0;36m18\u001b[0m \u001b[0;32melse\u001b[0m \u001b[0mprint\u001b[0m\u001b[0;34m(\u001b[0m\u001b[0;34m\"Usted es mayor de edad.\"\u001b[0m\u001b[0;34m)\u001b[0m\u001b[0;34m\u001b[0m\u001b[0;34m\u001b[0m\u001b[0m\n",
      "\u001b[0;31mValueError\u001b[0m: invalid literal for int() with base 10: 'd'"
     ]
    }
   ],
   "source": [
    "respuesta = input(\"¿Cuál es su edad? \")\n",
    "edad = int(respuesta)   \n",
    "print(\"Usted es menor de edad.\") if edad < 18 else print(\"Usted es mayor de edad.\")"
   ]
  },
  {
   "cell_type": "markdown",
   "metadata": {},
   "source": [
    "# Un ejemplo más elaborado"
   ]
  },
  {
   "cell_type": "code",
   "execution_count": 16,
   "metadata": {
    "scrolled": true
   },
   "outputs": [
    {
     "name": "stdout",
     "output_type": "stream",
     "text": [
      "\n",
      "En un lug@r de l@ M@nch@, de cuyo nombre no quiero @cord@rme, \n",
      "no h@ mucho tiempo que viví@ un hid@lgo de los de l@nz@ en @stillero, \n",
      "@d@rg@ @ntigu@, rocín fl@co y g@lgo corredor. \n",
      "Un@ oll@ de @lgo más v@c@ que c@rnero, \n",
      "s@lpicón l@s más noches, duelos y quebr@ntos los sáb@dos, \n",
      "lentej@s los viernes, @lgún p@lomino de @ñ@didur@ los domingos, \n",
      "consumí@n l@s tres p@rtes de su h@ciend@. \n",
      "El resto dell@ concluí@n s@yo de vel@rte, \n",
      "c@lz@s de velludo p@r@ l@s fiest@s con sus p@ntuflos de lo mismo, \n",
      "los dí@s de entre sem@n@ se honr@b@ con su vellori de lo más fino. \n",
      "Tení@ en su c@s@ un@ @m@ que p@s@b@ de los cu@rent@, \n",
      "y un@ sobrin@ que no lleg@b@ @ los veinte, y un mozo de c@mpo y pl@z@, \n",
      "que @sí ensill@b@ el rocín como tom@b@ l@ pod@der@. \n",
      "Fris@b@ l@ ed@d de nuestro hid@lgo con los cincuent@ @ños, \n",
      "er@ de complexión reci@, seco de c@rnes, enjuto de rostro; \n",
      "gr@n m@drug@dor y @migo de l@ c@z@. \n",
      "Quieren decir que tení@ el sobrenombre de Quij@d@ o Ques@d@ \n",
      "(que en esto h@y @lgun@ diferenci@ en los @utores que deste c@so escriben), \n",
      "@unque por conjetur@s verosímiles se dej@ entender que se ll@m@ Quij@n@; \n",
      "pero esto import@ poco @ nuestro cuento; \n",
      "b@st@ que en l@ n@rr@ción dél no se s@lg@ un punto de l@ verd@d.\n",
      "\n"
     ]
    }
   ],
   "source": [
    "quijote = \"\"\"\n",
    "En un lugar de la Mancha, de cuyo nombre no quiero acordarme, \n",
    "no ha mucho tiempo que vivía un hidalgo de los de lanza en astillero, \n",
    "adarga antigua, rocín flaco y galgo corredor. \n",
    "Una olla de algo más vaca que carnero, \n",
    "salpicón las más noches, duelos y quebrantos los sábados, \n",
    "lentejas los viernes, algún palomino de añadidura los domingos, \n",
    "consumían las tres partes de su hacienda. \n",
    "El resto della concluían sayo de velarte, \n",
    "calzas de velludo para las fiestas con sus pantuflos de lo mismo, \n",
    "los días de entre semana se honraba con su vellori de lo más fino. \n",
    "Tenía en su casa una ama que pasaba de los cuarenta, \n",
    "y una sobrina que no llegaba a los veinte, y un mozo de campo y plaza, \n",
    "que así ensillaba el rocín como tomaba la podadera. \n",
    "Frisaba la edad de nuestro hidalgo con los cincuenta años, \n",
    "era de complexión recia, seco de carnes, enjuto de rostro; \n",
    "gran madrugador y amigo de la caza. \n",
    "Quieren decir que tenía el sobrenombre de Quijada o Quesada \n",
    "(que en esto hay alguna diferencia en los autores que deste caso escriben), \n",
    "aunque por conjeturas verosímiles se deja entender que se llama Quijana; \n",
    "pero esto importa poco a nuestro cuento; \n",
    "basta que en la narración dél no se salga un punto de la verdad.\n",
    "\"\"\"\n",
    "nuevo = \"\"\n",
    "for c in quijote:\n",
    "    if c == \"a\" or c == \"A\":\n",
    "        c = \"@\"\n",
    "    nuevo += c\n",
    "print(nuevo)"
   ]
  },
  {
   "cell_type": "code",
   "execution_count": 11,
   "metadata": {},
   "outputs": [
    {
     "name": "stdout",
     "output_type": "stream",
     "text": [
      "\n",
      "eN UN LUGAR DE LA mANCHA, DE CUYO NOMBRE NO QUIERO ACORDARME, \n",
      "NO HA MUCHO TIEMPO QUE VIVÍA UN HIDALGO DE LOS DE LANZA EN ASTILLERO, \n",
      "ADARGA ANTIGUA, ROCÍN FLACO Y GALGO CORREDOR. \n",
      "uNA OLLA DE ALGO MÁS VACA QUE CARNERO, \n",
      "SALPICÓN LAS MÁS NOCHES, DUELOS Y QUEBRANTOS LOS SÁBADOS, \n",
      "LENTEJAS LOS VIERNES, ALGÚN PALOMINO DE AÑADIDURA LOS DOMINGOS, \n",
      "CONSUMÍAN LAS TRES PARTES DE SU HACIENDA. \n",
      "eL RESTO DELLA CONCLUÍAN SAYO DE VELARTE, \n",
      "CALZAS DE VELLUDO PARA LAS FIESTAS CON SUS PANTUFLOS DE LO MISMO, \n",
      "LOS DÍAS DE ENTRE SEMANA SE HONRABA CON SU VELLORI DE LO MÁS FINO. \n",
      "tENÍA EN SU CASA UNA AMA QUE PASABA DE LOS CUARENTA, \n",
      "Y UNA SOBRINA QUE NO LLEGABA A LOS VEINTE, Y UN MOZO DE CAMPO Y PLAZA, \n",
      "QUE ASÍ ENSILLABA EL ROCÍN COMO TOMABA LA PODADERA. \n",
      "fRISABA LA EDAD DE NUESTRO HIDALGO CON LOS CINCUENTA AÑOS, \n",
      "ERA DE COMPLEXIÓN RECIA, SECO DE CARNES, ENJUTO DE ROSTRO; \n",
      "GRAN MADRUGADOR Y AMIGO DE LA CAZA. \n",
      "qUIEREN DECIR QUE TENÍA EL SOBRENOMBRE DE qUIJADA O qUESADA \n",
      "(QUE EN ESTO HAY ALGUNA DIFERENCIA EN LOS AUTORES QUE DESTE CASO ESCRIBEN), \n",
      "AUNQUE POR CONJETURAS VEROSÍMILES SE DEJA ENTENDER QUE SE LLAMA qUIJANA; \n",
      "PERO ESTO IMPORTA POCO A NUESTRO CUENTO; \n",
      "BASTA QUE EN LA NARRACIÓN DÉL NO SE SALGA UN PUNTO DE LA VERDAD.\n",
      "\n"
     ]
    }
   ],
   "source": [
    "nuevo = \"\"\n",
    "for c in quijote:\n",
    "    if c.isupper():\n",
    "        c = c.lower()\n",
    "    else:\n",
    "        c = c.upper()\n",
    "    nuevo += c\n",
    "print(nuevo)"
   ]
  },
  {
   "cell_type": "code",
   "execution_count": 12,
   "metadata": {},
   "outputs": [
    {
     "name": "stdout",
     "output_type": "stream",
     "text": [
      "\n",
      "eN UN LUGAR DE LA mANCHA, DE CUYO NOMBRE NO QUIERO ACORDARME, \n",
      "NO HA MUCHO TIEMPO QUE VIVÍA UN HIDALGO DE LOS DE LANZA EN ASTILLERO, \n",
      "ADARGA ANTIGUA, ROCÍN FLACO Y GALGO CORREDOR. \n",
      "uNA OLLA DE ALGO MÁS VACA QUE CARNERO, \n",
      "SALPICÓN LAS MÁS NOCHES, DUELOS Y QUEBRANTOS LOS SÁBADOS, \n",
      "LENTEJAS LOS VIERNES, ALGÚN PALOMINO DE AÑADIDURA LOS DOMINGOS, \n",
      "CONSUMÍAN LAS TRES PARTES DE SU HACIENDA. \n",
      "eL RESTO DELLA CONCLUÍAN SAYO DE VELARTE, \n",
      "CALZAS DE VELLUDO PARA LAS FIESTAS CON SUS PANTUFLOS DE LO MISMO, \n",
      "LOS DÍAS DE ENTRE SEMANA SE HONRABA CON SU VELLORI DE LO MÁS FINO. \n",
      "tENÍA EN SU CASA UNA AMA QUE PASABA DE LOS CUARENTA, \n",
      "Y UNA SOBRINA QUE NO LLEGABA A LOS VEINTE, Y UN MOZO DE CAMPO Y PLAZA, \n",
      "QUE ASÍ ENSILLABA EL ROCÍN COMO TOMABA LA PODADERA. \n",
      "fRISABA LA EDAD DE NUESTRO HIDALGO CON LOS CINCUENTA AÑOS, \n",
      "ERA DE COMPLEXIÓN RECIA, SECO DE CARNES, ENJUTO DE ROSTRO; \n",
      "GRAN MADRUGADOR Y AMIGO DE LA CAZA. \n",
      "qUIEREN DECIR QUE TENÍA EL SOBRENOMBRE DE qUIJADA O qUESADA \n",
      "(QUE EN ESTO HAY ALGUNA DIFERENCIA EN LOS AUTORES QUE DESTE CASO ESCRIBEN), \n",
      "AUNQUE POR CONJETURAS VEROSÍMILES SE DEJA ENTENDER QUE SE LLAMA qUIJANA; \n",
      "PERO ESTO IMPORTA POCO A NUESTRO CUENTO; \n",
      "BASTA QUE EN LA NARRACIÓN DÉL NO SE SALGA UN PUNTO DE LA VERDAD.\n",
      "\n"
     ]
    }
   ],
   "source": [
    "nuevo = \"\"\n",
    "for c in quijote:\n",
    "    nuevo += c.swapcase()\n",
    "print(nuevo)"
   ]
  },
  {
   "cell_type": "markdown",
   "metadata": {},
   "source": [
    "¿Qué hace el método `split()` en el siguiente código?"
   ]
  },
  {
   "cell_type": "code",
   "execution_count": 20,
   "metadata": {
    "scrolled": false
   },
   "outputs": [
    {
     "data": {
      "text/plain": [
       "['En',\n",
       " 'un',\n",
       " 'lugar',\n",
       " 'de',\n",
       " 'la',\n",
       " 'Mancha,',\n",
       " 'de',\n",
       " 'cuyo',\n",
       " 'nombre',\n",
       " 'no',\n",
       " 'quiero',\n",
       " 'acordarme,',\n",
       " 'no',\n",
       " 'ha',\n",
       " 'mucho',\n",
       " 'tiempo',\n",
       " 'que',\n",
       " 'vivía',\n",
       " 'un',\n",
       " 'hidalgo',\n",
       " 'de',\n",
       " 'los',\n",
       " 'de',\n",
       " 'lanza',\n",
       " 'en',\n",
       " 'astillero,',\n",
       " 'adarga',\n",
       " 'antigua,',\n",
       " 'rocín',\n",
       " 'flaco',\n",
       " 'y',\n",
       " 'galgo',\n",
       " 'corredor.',\n",
       " 'Una',\n",
       " 'olla',\n",
       " 'de',\n",
       " 'algo',\n",
       " 'más',\n",
       " 'vaca',\n",
       " 'que',\n",
       " 'carnero,',\n",
       " 'salpicón',\n",
       " 'las',\n",
       " 'más',\n",
       " 'noches,',\n",
       " 'duelos',\n",
       " 'y',\n",
       " 'quebrantos',\n",
       " 'los',\n",
       " 'sábados,',\n",
       " 'lentejas',\n",
       " 'los',\n",
       " 'viernes,',\n",
       " 'algún',\n",
       " 'palomino',\n",
       " 'de',\n",
       " 'añadidura',\n",
       " 'los',\n",
       " 'domingos,',\n",
       " 'consumían',\n",
       " 'las',\n",
       " 'tres',\n",
       " 'partes',\n",
       " 'de',\n",
       " 'su',\n",
       " 'hacienda.',\n",
       " 'El',\n",
       " 'resto',\n",
       " 'della',\n",
       " 'concluían',\n",
       " 'sayo',\n",
       " 'de',\n",
       " 'velarte,',\n",
       " 'calzas',\n",
       " 'de',\n",
       " 'velludo',\n",
       " 'para',\n",
       " 'las',\n",
       " 'fiestas',\n",
       " 'con',\n",
       " 'sus',\n",
       " 'pantuflos',\n",
       " 'de',\n",
       " 'lo',\n",
       " 'mismo,',\n",
       " 'los',\n",
       " 'días',\n",
       " 'de',\n",
       " 'entre',\n",
       " 'semana',\n",
       " 'se',\n",
       " 'honraba',\n",
       " 'con',\n",
       " 'su',\n",
       " 'vellori',\n",
       " 'de',\n",
       " 'lo',\n",
       " 'más',\n",
       " 'fino.',\n",
       " 'Tenía',\n",
       " 'en',\n",
       " 'su',\n",
       " 'casa',\n",
       " 'una',\n",
       " 'ama',\n",
       " 'que',\n",
       " 'pasaba',\n",
       " 'de',\n",
       " 'los',\n",
       " 'cuarenta,',\n",
       " 'y',\n",
       " 'una',\n",
       " 'sobrina',\n",
       " 'que',\n",
       " 'no',\n",
       " 'llegaba',\n",
       " 'a',\n",
       " 'los',\n",
       " 'veinte,',\n",
       " 'y',\n",
       " 'un',\n",
       " 'mozo',\n",
       " 'de',\n",
       " 'campo',\n",
       " 'y',\n",
       " 'plaza,',\n",
       " 'que',\n",
       " 'así',\n",
       " 'ensillaba',\n",
       " 'el',\n",
       " 'rocín',\n",
       " 'como',\n",
       " 'tomaba',\n",
       " 'la',\n",
       " 'podadera.',\n",
       " 'Frisaba',\n",
       " 'la',\n",
       " 'edad',\n",
       " 'de',\n",
       " 'nuestro',\n",
       " 'hidalgo',\n",
       " 'con',\n",
       " 'los',\n",
       " 'cincuenta',\n",
       " 'años,',\n",
       " 'era',\n",
       " 'de',\n",
       " 'complexión',\n",
       " 'recia,',\n",
       " 'seco',\n",
       " 'de',\n",
       " 'carnes,',\n",
       " 'enjuto',\n",
       " 'de',\n",
       " 'rostro;',\n",
       " 'gran',\n",
       " 'madrugador',\n",
       " 'y',\n",
       " 'amigo',\n",
       " 'de',\n",
       " 'la',\n",
       " 'caza.',\n",
       " 'Quieren',\n",
       " 'decir',\n",
       " 'que',\n",
       " 'tenía',\n",
       " 'el',\n",
       " 'sobrenombre',\n",
       " 'de',\n",
       " 'Quijada',\n",
       " 'o',\n",
       " 'Quesada',\n",
       " '(que',\n",
       " 'en',\n",
       " 'esto',\n",
       " 'hay',\n",
       " 'alguna',\n",
       " 'diferencia',\n",
       " 'en',\n",
       " 'los',\n",
       " 'autores',\n",
       " 'que',\n",
       " 'deste',\n",
       " 'caso',\n",
       " 'escriben),',\n",
       " 'aunque',\n",
       " 'por',\n",
       " 'conjeturas',\n",
       " 'verosímiles',\n",
       " 'se',\n",
       " 'deja',\n",
       " 'entender',\n",
       " 'que',\n",
       " 'se',\n",
       " 'llama',\n",
       " 'Quijana;',\n",
       " 'pero',\n",
       " 'esto',\n",
       " 'importa',\n",
       " 'poco',\n",
       " 'a',\n",
       " 'nuestro',\n",
       " 'cuento;',\n",
       " 'basta',\n",
       " 'que',\n",
       " 'en',\n",
       " 'la',\n",
       " 'narración',\n",
       " 'dél',\n",
       " 'no',\n",
       " 'se',\n",
       " 'salga',\n",
       " 'un',\n",
       " 'punto',\n",
       " 'de',\n",
       " 'la',\n",
       " 'verdad.']"
      ]
     },
     "execution_count": 20,
     "metadata": {},
     "output_type": "execute_result"
    }
   ],
   "source": [
    "quijote.split()"
   ]
  },
  {
   "cell_type": "code",
   "execution_count": 18,
   "metadata": {},
   "outputs": [
    {
     "name": "stdout",
     "output_type": "stream",
     "text": [
      "En Un lUgAr dE lA mAnchA, dE cUyO nOmbrE nO qUIErO AcOrdArmE, nO hA mUchO tIEmpO qUE vIvíA Un hIdAlgO dE lOs dE lAnzA En AstIllErO, AdArgA AntIgUA, rOcín flAcO y gAlgO cOrrEdOr. UnA OllA dE AlgO más vAcA qUE cArnErO, sAlpIcón lAs más nOchEs, dUElOs y qUEbrAntOs lOs sábAdOs, lEntEjAs lOs vIErnEs, Algún pAlOmInO dE AñAdIdUrA lOs dOmIngOs, cOnsUmíAn lAs trEs pArtEs dE sU hAcIEndA. El rEstO dEllA cOnclUíAn sAyO dE vElArtE, cAlzAs dE vEllUdO pArA lAs fIEstAs cOn sUs pAntUflOs dE lO mIsmO, lOs díAs dE EntrE sEmAnA sE hOnrAbA cOn sU vEllOrI dE lO más fInO. tEníA En sU cAsA UnA AmA qUE pAsAbA dE lOs cUArEntA, y UnA sObrInA qUE nO llEgAbA A lOs vEIntE, y Un mOzO dE cAmpO y plAzA, qUE Así EnsIllAbA El rOcín cOmO tOmAbA lA pOdAdErA. frIsAbA lA EdAd dE nUEstrO hIdAlgO cOn lOs cIncUEntA AñOs, ErA dE cOmplExIón rEcIA, sEcO dE cArnEs, EnjUtO dE rOstrO; grAn mAdrUgAdOr y AmIgO dE lA cAzA. qUIErEn dEcIr qUE tEníA El sObrEnOmbrE dE qUIjAdA O qUEsAdA (qUE En EstO hAy AlgUnA dIfErEncIA En lOs AUtOrEs qUE dEstE cAsO EscrIbEn), AUnqUE pOr cOnjEtUrAs vErOsímIlEs sE dEjA EntEndEr qUE sE llAmA qUIjAnA; pErO EstO ImpOrtA pOcO A nUEstrO cUEntO; bAstA qUE En lA nArrAcIón dél nO sE sAlgA Un pUntO dE lA vErdAd. \n"
     ]
    }
   ],
   "source": [
    "nuevo = \"\"\n",
    "lista = quijote.split()\n",
    "for palabra in lista:\n",
    "    nuevapalabra = \"\"\n",
    "    for letra in palabra:\n",
    "        if letra in [\"a\", \"e\", \"i\", \"o\", \"u\"] or letra in [\"A\", \"E\", \"I\", \"O\", \"U\"]:\n",
    "            letra = letra.upper()\n",
    "        else:\n",
    "            letra = letra.lower()\n",
    "        nuevapalabra += letra\n",
    "    nuevo = nuevo + nuevapalabra + \" \"\n",
    "print(nuevo)"
   ]
  },
  {
   "cell_type": "code",
   "execution_count": 29,
   "metadata": {},
   "outputs": [
    {
     "name": "stdout",
     "output_type": "stream",
     "text": [
      "El texto contiene 217 palabras.\n",
      "La palabra 'la' aparece 6 veces en el texto.\n",
      "Es decir, tiene una frecuencia de aparición del 2.8%.\n"
     ]
    }
   ],
   "source": [
    "cuenta = 0\n",
    "for palabra in lista:\n",
    "    if palabra.lower() == \"la\":\n",
    "        cuenta += 1\n",
    "numero_palabras = len(lista)\n",
    "print(f\"El texto contiene {numero_palabras} palabras.\")\n",
    "print(f\"La palabra 'la' aparece {cuenta} veces en el texto.\")\n",
    "frecuencia = (cuenta * 100) / numero_palabras\n",
    "frecuencia_redondeada = round(frecuencia, 1)\n",
    "print(f\"Es decir, tiene una frecuencia de aparición del {frecuencia_redondeada}%.\")"
   ]
  },
  {
   "cell_type": "markdown",
   "metadata": {
    "collapsed": true
   },
   "source": [
    "# Notas\n",
    "<a name=\"myfootnote1\">1.</a> https://www.w3schools.com/python/python_operators.asp"
   ]
  },
  {
   "cell_type": "code",
   "execution_count": null,
   "metadata": {},
   "outputs": [],
   "source": []
  }
 ],
 "metadata": {
  "kernelspec": {
   "display_name": "Python 3",
   "language": "python",
   "name": "python3"
  },
  "language_info": {
   "codemirror_mode": {
    "name": "ipython",
    "version": 3
   },
   "file_extension": ".py",
   "mimetype": "text/x-python",
   "name": "python",
   "nbconvert_exporter": "python",
   "pygments_lexer": "ipython3",
   "version": "3.7.4"
  }
 },
 "nbformat": 4,
 "nbformat_minor": 2
}
