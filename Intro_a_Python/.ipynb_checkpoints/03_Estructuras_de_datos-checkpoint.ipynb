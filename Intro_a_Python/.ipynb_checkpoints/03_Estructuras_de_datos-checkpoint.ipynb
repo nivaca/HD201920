{
 "cells": [
  {
   "cell_type": "markdown",
   "metadata": {},
   "source": [
    "# Estructuras de datos\n",
    "\n",
    "Además de datos no estructurados (enteros, flotantes, etc.), Python tiene datos estructurados o colecciones.\n",
    "\n",
    "En Python hay cuatro tipos de datos estructurados:<sup>[1](#myfootnote1)</sup>\n",
    "1. Lista  (*list*)\n",
    "2. Tupla (*tuple*)\n",
    "3. Conjunto (*set*)\n",
    "4. Dictionario (*dictionary*)\n",
    "\n",
    "\n",
    "Para acceder a las colecciones ordenadas, usamos índices numéricos (iniciando en 0). Convencionalmente, el índice -1 equivale al último elemento."
   ]
  },
  {
   "cell_type": "markdown",
   "metadata": {},
   "source": [
    "## 1. Listas<sup>[2](#myfootnote2)</sup>\n",
    "\n",
    "En Python una lista una colección ordenada y mutable que puede contener ítems duplicados.\n",
    "\n",
    "Podemos crear listas de elementos con `[ ]`.\n",
    "\n",
    "Sintaxis: <br>\n",
    "```python\n",
    "[item1, item2, ...]```"
   ]
  },
  {
   "cell_type": "markdown",
   "metadata": {},
   "source": [
    "Por ejemplo, podemos usar una lista para recordar a mis amigos:"
   ]
  },
  {
   "cell_type": "code",
   "execution_count": null,
   "metadata": {},
   "outputs": [],
   "source": [
    "amigos = [\"Ted\", \"Robyn\", \"Barney\", \"Lily\", \"Marshall\"]\n",
    "print(amigos)"
   ]
  },
  {
   "cell_type": "markdown",
   "metadata": {},
   "source": [
    "O guardar una secuencia de números"
   ]
  },
  {
   "cell_type": "code",
   "execution_count": null,
   "metadata": {},
   "outputs": [],
   "source": [
    "fibonacci = [1, 1, 2, 3, 5, 8, 13]\n",
    "print(fibonacci)"
   ]
  },
  {
   "cell_type": "code",
   "execution_count": null,
   "metadata": {},
   "outputs": [],
   "source": [
    "mezcla = [1, 1, 2, 3, \"Ted\", \"Robyn\"]\n",
    "print(mezcla)"
   ]
  },
  {
   "cell_type": "markdown",
   "metadata": {},
   "source": [
    "Una vez que tenemos una lista, podemos tomar los datos individualmente dentro ella, accediendo a cada uno por su índice. \n",
    "\n",
    "Por ejemplo, si queremos al cuarto elemento de `amigos`, escribimos:"
   ]
  },
  {
   "cell_type": "code",
   "execution_count": null,
   "metadata": {},
   "outputs": [],
   "source": [
    "amigos[3]"
   ]
  },
  {
   "cell_type": "markdown",
   "metadata": {},
   "source": [
    "Y el último:"
   ]
  },
  {
   "cell_type": "code",
   "execution_count": null,
   "metadata": {},
   "outputs": [],
   "source": [
    "amigos[-1]"
   ]
  },
  {
   "cell_type": "markdown",
   "metadata": {},
   "source": [
    "Podemos usar el índice para mutar la entrada de la lista:"
   ]
  },
  {
   "cell_type": "code",
   "execution_count": null,
   "metadata": {},
   "outputs": [],
   "source": [
    "amigos[3] = \"Baby Bop\""
   ]
  },
  {
   "cell_type": "markdown",
   "metadata": {},
   "source": [
    "También podemos usar el método `append()` para agregar un nuevo ítem.\n",
    "Por ejemplo:"
   ]
  },
  {
   "cell_type": "code",
   "execution_count": null,
   "metadata": {},
   "outputs": [],
   "source": [
    "print(fibonacci)\n",
    "fibonacci.append(21)\n",
    "print(fibonacci)"
   ]
  },
  {
   "cell_type": "markdown",
   "metadata": {},
   "source": [
    "Para añadir un ítem en un lugar determinado, usamos el método `insert()`, por ejemplo:"
   ]
  },
  {
   "cell_type": "code",
   "execution_count": null,
   "metadata": {},
   "outputs": [],
   "source": [
    "print(amigos)\n",
    "amigos.insert(2, \"John\")\n",
    "print(amigos)"
   ]
  },
  {
   "cell_type": "markdown",
   "metadata": {},
   "source": [
    "El método `remove()` elimina la primera aparición de un elemento, por ejemplo:"
   ]
  },
  {
   "cell_type": "code",
   "execution_count": null,
   "metadata": {},
   "outputs": [],
   "source": [
    "a = [1, 2, 3, 4, 2]\n",
    "print(a)\n",
    "a.remove(2)\n",
    "print(a)"
   ]
  },
  {
   "cell_type": "markdown",
   "metadata": {},
   "source": [
    "La instrucción `del` elimina un determinado ítem, por ejemplo: "
   ]
  },
  {
   "cell_type": "code",
   "execution_count": null,
   "metadata": {},
   "outputs": [],
   "source": [
    "a = [1, 2, 3, 4, 2]\n",
    "print(a)\n",
    "del a[2]\n",
    "print(a)"
   ]
  },
  {
   "cell_type": "markdown",
   "metadata": {},
   "source": [
    "Hasta ahora hemos dado ejemplos de listas de escalars unidimensionales, pero las listas pueden tener un número arbitrario de dimensiones y también pueden guardar otras listas.\n",
    "<br><br>\n",
    "Por ejemplo, estas son listas de listas"
   ]
  },
  {
   "cell_type": "code",
   "execution_count": null,
   "metadata": {},
   "outputs": [],
   "source": [
    "favoritos = [[\"koobideh\", \"chocolate\", \"eggs\"],[\"penguins\", \"cats\", \"sugargliders\"]]"
   ]
  },
  {
   "cell_type": "markdown",
   "metadata": {},
   "source": [
    "Si queremos acceder a un ítem de una de las listas incrustadas, hacemos esto:"
   ]
  },
  {
   "cell_type": "code",
   "execution_count": null,
   "metadata": {},
   "outputs": [],
   "source": [
    "favoritos[1][2]"
   ]
  },
  {
   "cell_type": "markdown",
   "metadata": {},
   "source": [
    "lo que significa: \n",
    "\n",
    "dentro del ítem de índice 1 (la segunda lista incrustada), seleccionar el ítem de índice 2."
   ]
  },
  {
   "cell_type": "markdown",
   "metadata": {},
   "source": [
    "### Cómo copiar listas"
   ]
  },
  {
   "cell_type": "code",
   "execution_count": null,
   "metadata": {},
   "outputs": [],
   "source": [
    "fibonacci"
   ]
  },
  {
   "cell_type": "code",
   "execution_count": null,
   "metadata": {},
   "outputs": [],
   "source": [
    "a = fibonacci"
   ]
  },
  {
   "cell_type": "code",
   "execution_count": null,
   "metadata": {},
   "outputs": [],
   "source": [
    "a[1] = 404"
   ]
  },
  {
   "cell_type": "code",
   "execution_count": null,
   "metadata": {},
   "outputs": [],
   "source": [
    "fibonacci"
   ]
  },
  {
   "cell_type": "markdown",
   "metadata": {},
   "source": [
    "**¡Editar `somenumbers` causa que `fibonacci` se edite también!**\n",
    "\n",
    "En el ejemplo superior, en realidad no hicimos una copia de `fibonacci`. Sólo creamos una nueva manera de acceder a las entradas de la lista relacionada a `fibonacci`.\n",
    "\n",
    "Si queremos hacer una copia de un arreglo amarrado a `fibonacci`, usamos el método `copy()`."
   ]
  },
  {
   "cell_type": "code",
   "execution_count": null,
   "metadata": {},
   "outputs": [],
   "source": [
    "# Primero restauramos `fibonnaci` a su estado anterior:\n",
    "fibonacci[1] = 1\n",
    "fibonacci"
   ]
  },
  {
   "cell_type": "code",
   "execution_count": null,
   "metadata": {},
   "outputs": [],
   "source": [
    "a = fibonacci.copy()"
   ]
  },
  {
   "cell_type": "code",
   "execution_count": null,
   "metadata": {},
   "outputs": [],
   "source": [
    "a[1] = 404"
   ]
  },
  {
   "cell_type": "code",
   "execution_count": null,
   "metadata": {},
   "outputs": [],
   "source": [
    "fibonacci"
   ]
  },
  {
   "cell_type": "markdown",
   "metadata": {},
   "source": [
    "Para saber si un ítem existe en una lista, usamos el operador `in`:"
   ]
  },
  {
   "cell_type": "code",
   "execution_count": null,
   "metadata": {},
   "outputs": [],
   "source": [
    "1 in fibonacci"
   ]
  },
  {
   "cell_type": "code",
   "execution_count": null,
   "metadata": {},
   "outputs": [],
   "source": [
    "4 in fibonacci"
   ]
  },
  {
   "cell_type": "markdown",
   "metadata": {},
   "source": [
    "Con la función `len()` podemos saber el tamaño de una lista:"
   ]
  },
  {
   "cell_type": "code",
   "execution_count": null,
   "metadata": {},
   "outputs": [],
   "source": [
    "len(fibonacci)"
   ]
  },
  {
   "cell_type": "markdown",
   "metadata": {},
   "source": [
    "Podemos hacer cortes o rebanadas (*slices*) en una lista con `:` así:"
   ]
  },
  {
   "cell_type": "code",
   "execution_count": null,
   "metadata": {},
   "outputs": [],
   "source": [
    "milista = [\"a\", \"b\", \"c\", \"d\", \"e\"]\n",
    "print(milista[2:4])\n",
    "print(milista[:-1])\n",
    "print(milista[:])"
   ]
  },
  {
   "cell_type": "markdown",
   "metadata": {},
   "source": [
    "Para unir dos listas usamos el operador `+`:"
   ]
  },
  {
   "cell_type": "code",
   "execution_count": null,
   "metadata": {},
   "outputs": [],
   "source": [
    "[\"a\", \"b\", \"c\", \"d\", \"e\"] + [\"f\", \"g\", \"h\", \"i\", \"j\"]"
   ]
  },
  {
   "cell_type": "markdown",
   "metadata": {},
   "source": [
    "También podemos \"multiplicar\" los elementos de una lista con el operador \"*\":"
   ]
  },
  {
   "cell_type": "code",
   "execution_count": null,
   "metadata": {},
   "outputs": [],
   "source": [
    "3 * [\"a\", \"b\", \"c\", \"d\", \"e\"] "
   ]
  },
  {
   "cell_type": "markdown",
   "metadata": {},
   "source": [
    "## 2. Tuplas\n",
    "\n",
    "Un tupla es una colección ordenada e *in*mutable.\n",
    "\n",
    "Podemos crear una tupla encerrando una secuencia ordenada de elementos con `( )`.\n",
    "\n",
    "Sintaxis: <br>\n",
    "```python\n",
    "(item1, item2, ...)```"
   ]
  },
  {
   "cell_type": "code",
   "execution_count": null,
   "metadata": {},
   "outputs": [],
   "source": [
    "animales = (\"pingüino\", \"gato\", \"petauro_del_azúcar\")\n",
    "animales"
   ]
  },
  {
   "cell_type": "markdown",
   "metadata": {},
   "source": [
    "Podemos acceder con un índice a esta tupla. Como con las cadenas, 0 es el primer elemento y -1 el último."
   ]
  },
  {
   "cell_type": "code",
   "execution_count": null,
   "metadata": {},
   "outputs": [],
   "source": [
    "animales[0]"
   ]
  },
  {
   "cell_type": "code",
   "execution_count": null,
   "metadata": {},
   "outputs": [],
   "source": [
    "animales[2]"
   ]
  },
  {
   "cell_type": "code",
   "execution_count": null,
   "metadata": {},
   "outputs": [],
   "source": [
    "animales[-1]"
   ]
  },
  {
   "cell_type": "markdown",
   "metadata": {},
   "source": [
    "Pero como las tuplas con inmutables, no la podemos modificar:"
   ]
  },
  {
   "cell_type": "code",
   "execution_count": null,
   "metadata": {},
   "outputs": [],
   "source": [
    "animales[1] = \"nutria\""
   ]
  },
  {
   "cell_type": "markdown",
   "metadata": {},
   "source": [
    "Como con las listas, podemos conocer el tamaño de las tuplas con la función `len()` y podemos saber si tienen algún elemento con el operador `in`:"
   ]
  },
  {
   "cell_type": "code",
   "execution_count": null,
   "metadata": {},
   "outputs": [],
   "source": [
    "len(animales)"
   ]
  },
  {
   "cell_type": "code",
   "execution_count": null,
   "metadata": {},
   "outputs": [],
   "source": [
    "\"pingüino\" in animales"
   ]
  },
  {
   "cell_type": "markdown",
   "metadata": {},
   "source": [
    "## 3. Conjuntos\n",
    "\n",
    "Los conjuntos son estructuras de datos que no están ordenadas y por lo tanto tampoco están indexadas.\n",
    "\n",
    "Las creamos con llaves (`{ }`). Por ejemplo:"
   ]
  },
  {
   "cell_type": "code",
   "execution_count": null,
   "metadata": {},
   "outputs": [],
   "source": [
    "miconjunto = {\"bajo\", \"saxo\", \"batería\"}\n",
    "miconjunto"
   ]
  },
  {
   "cell_type": "markdown",
   "metadata": {},
   "source": [
    "Como el orden no importa, la siguiente aserción es verdadera:"
   ]
  },
  {
   "cell_type": "code",
   "execution_count": null,
   "metadata": {},
   "outputs": [],
   "source": [
    "otroconjunto = {\"batería\", \"saxo\", \"bajo\"}\n",
    "miconjunto == otroconjunto"
   ]
  },
  {
   "cell_type": "markdown",
   "metadata": {},
   "source": [
    "(Nota: El operador `==` significa en Python la aserción `es igual`; por el contrario, el operador `=` asigna a la variable de la izquierda el valor de la derecha.)"
   ]
  },
  {
   "cell_type": "markdown",
   "metadata": {},
   "source": [
    "Los ítems de un conjunto no pueden cambiarse, pero sí pueden agregarse o eliminarse ítems.\n",
    "\n",
    "Para agregar, usamos el método `add()`:"
   ]
  },
  {
   "cell_type": "code",
   "execution_count": null,
   "metadata": {},
   "outputs": [],
   "source": [
    "miconjunto.add(\"guitarra\")\n",
    "miconjunto"
   ]
  },
  {
   "cell_type": "markdown",
   "metadata": {},
   "source": [
    "Para eliminar, usamos los métodos `discard()` o `remove()`:"
   ]
  },
  {
   "cell_type": "code",
   "execution_count": null,
   "metadata": {},
   "outputs": [],
   "source": [
    "miconjunto.discard(\"guitarra\")\n",
    "miconjunto"
   ]
  },
  {
   "cell_type": "markdown",
   "metadata": {},
   "source": [
    "La diferencia entre `discard()` y `remove()` es que el primero no produce un error si el elemento no existe, mientras que el segundo sí:"
   ]
  },
  {
   "cell_type": "code",
   "execution_count": null,
   "metadata": {},
   "outputs": [],
   "source": [
    "miconjunto.discard(\"campana\")"
   ]
  },
  {
   "cell_type": "code",
   "execution_count": null,
   "metadata": {},
   "outputs": [],
   "source": [
    "miconjunto.remove(\"campana\")"
   ]
  },
  {
   "cell_type": "markdown",
   "metadata": {},
   "source": [
    "Los conjuntos no pueden contener elementos repetidos. Por ejemplo, la siguiente aserción es verdadera:"
   ]
  },
  {
   "cell_type": "code",
   "execution_count": null,
   "metadata": {},
   "outputs": [],
   "source": [
    "{1, 2, 3} == {1, 1, 2, 3}"
   ]
  },
  {
   "cell_type": "markdown",
   "metadata": {},
   "source": [
    "Podemos conocer el tamaño de los conjuntos con la función `len()` y podemos saber si tienen algún elemento con el operador `in`:"
   ]
  },
  {
   "cell_type": "code",
   "execution_count": null,
   "metadata": {},
   "outputs": [],
   "source": [
    "len(miconjunto)"
   ]
  },
  {
   "cell_type": "code",
   "execution_count": null,
   "metadata": {},
   "outputs": [],
   "source": [
    "\"campana\" in miconjunto"
   ]
  },
  {
   "cell_type": "markdown",
   "metadata": {},
   "source": [
    "## 4. Diccionarios\n",
    "\n",
    "En Python un diccionario es una colección de ítems cambiable e indexada, aunque no numéricamente. Los ítems de un diccionario están indexados por \"llaves\". Tampoco permite miembros (llaves) duplicados.\n",
    "\n",
    "\n",
    "Sintaxis:\n",
    "```python\n",
    "{llave1:valor1, llave2:valor2, ...}\n",
    "```\n",
    "\n",
    "Un buen ejemplo es una lista de contactos, donde asociamos nombres a números de teléfono:"
   ]
  },
  {
   "cell_type": "code",
   "execution_count": null,
   "metadata": {},
   "outputs": [],
   "source": [
    "miagenda = {\"Jenny\":\"867-5309\", \"Cazafantasmas\":\"555-2368\"}\n",
    "miagenda"
   ]
  },
  {
   "cell_type": "markdown",
   "metadata": {
    "collapsed": true
   },
   "source": [
    "En este ejemplo, cada nombre y número es un par de \"llave\" y \"valor\". \n",
    "\n",
    "En este caso, el valor de \"Jenny\", a saber, \"867-5309\" es una *cadena*, no un número. \n",
    "Aunque, claro está, un diccionario puede tener llaves y valores de *cualquier tipo*: decimal, float, etc. Por ejemplo:"
   ]
  },
  {
   "cell_type": "code",
   "execution_count": null,
   "metadata": {},
   "outputs": [],
   "source": [
    "diccionarioraro = {1:2, 2:3, 3:\"cuatro\", \"pi\":3.14}"
   ]
  },
  {
   "cell_type": "markdown",
   "metadata": {},
   "source": [
    "Podemos obtener el valor de un ítem por medio de su clave:"
   ]
  },
  {
   "cell_type": "code",
   "execution_count": null,
   "metadata": {},
   "outputs": [],
   "source": [
    "miagenda[\"Jenny\"]"
   ]
  },
  {
   "cell_type": "markdown",
   "metadata": {},
   "source": [
    "También podemos usar el método `get()` para eso:"
   ]
  },
  {
   "cell_type": "code",
   "execution_count": null,
   "metadata": {},
   "outputs": [],
   "source": [
    "miagenda.get(\"Jenny\")"
   ]
  },
  {
   "cell_type": "markdown",
   "metadata": {},
   "source": [
    "Podemos agregar otra entrada al diccionario de la manera siguiente"
   ]
  },
  {
   "cell_type": "code",
   "execution_count": null,
   "metadata": {},
   "outputs": [],
   "source": [
    "miagenda[\"Kramer\"] = \"555-FILK\"\n",
    "miagenda"
   ]
  },
  {
   "cell_type": "markdown",
   "metadata": {},
   "source": [
    "Para cambiar el valor de una llave, simplemente hacemos esto:"
   ]
  },
  {
   "cell_type": "code",
   "execution_count": null,
   "metadata": {},
   "outputs": [],
   "source": [
    "miagenda[\"Kramer\"] = \"111-1111\"\n",
    "miagenda"
   ]
  },
  {
   "cell_type": "markdown",
   "metadata": {},
   "source": [
    "Si queremos conocer todos los valores de un diccionario, hacemos esto:"
   ]
  },
  {
   "cell_type": "code",
   "execution_count": null,
   "metadata": {},
   "outputs": [],
   "source": [
    "miagenda.values()"
   ]
  },
  {
   "cell_type": "markdown",
   "metadata": {},
   "source": [
    "Lo mismo podemos hacer con sus llaves:"
   ]
  },
  {
   "cell_type": "code",
   "execution_count": null,
   "metadata": {},
   "outputs": [],
   "source": [
    "miagenda.keys()"
   ]
  },
  {
   "cell_type": "markdown",
   "metadata": {},
   "source": [
    "Podemos usar `in` para saber si una llave está en nuestro diccionario:"
   ]
  },
  {
   "cell_type": "code",
   "execution_count": null,
   "metadata": {},
   "outputs": [],
   "source": [
    "\"Jenny\" in miagenda"
   ]
  },
  {
   "cell_type": "markdown",
   "metadata": {},
   "source": [
    "O equivalentemente:"
   ]
  },
  {
   "cell_type": "code",
   "execution_count": null,
   "metadata": {},
   "outputs": [],
   "source": [
    "\"Jenny\" in miagenda.keys()"
   ]
  },
  {
   "cell_type": "markdown",
   "metadata": {},
   "source": [
    "Pero no podemos usar `in` para saber si un valor lo está:"
   ]
  },
  {
   "cell_type": "code",
   "execution_count": null,
   "metadata": {},
   "outputs": [],
   "source": [
    "\"111-1111\" in miagenda"
   ]
  },
  {
   "cell_type": "markdown",
   "metadata": {},
   "source": [
    "Pero sí podemos hacer esto (aunque no es muy eficiente):"
   ]
  },
  {
   "cell_type": "code",
   "execution_count": null,
   "metadata": {},
   "outputs": [],
   "source": [
    "\"111-1111\" in miagenda.values()"
   ]
  },
  {
   "cell_type": "markdown",
   "metadata": {},
   "source": [
    "Para borrar el ítem \"Kramer\" de nuestro diccionario ---y de paso obtener su valor--- usamos el método `pop()`:"
   ]
  },
  {
   "cell_type": "code",
   "execution_count": null,
   "metadata": {},
   "outputs": [],
   "source": [
    "miagenda.pop(\"Kramer\")"
   ]
  },
  {
   "cell_type": "markdown",
   "metadata": {},
   "source": [
    "Para copiar un diccionario, al igual que en los demás tipos de estructuras de datos, *no* podemos hacer simplemente esto:"
   ]
  },
  {
   "cell_type": "code",
   "execution_count": null,
   "metadata": {},
   "outputs": [],
   "source": [
    "miagenda = nuevaagenda"
   ]
  },
  {
   "cell_type": "markdown",
   "metadata": {},
   "source": [
    "En ese caso, `miagenda` y `nuevaagenda` simplemente son nombres de un mismo diccionario. Para copiarlo, debemos usar el método `copy()`:"
   ]
  },
  {
   "cell_type": "code",
   "execution_count": null,
   "metadata": {},
   "outputs": [],
   "source": [
    "nuevaagenda = miagenda.copy()\n",
    "nuevaagenda"
   ]
  },
  {
   "cell_type": "markdown",
   "metadata": {},
   "source": [
    "Ahora, si cambiamos `miagenda`, `nuevaagenda` no será cambiada, ni viceversa.\n",
    "\n",
    "Así como con los otros tipos de datos estructurados, podemos usar la función `len()` para conocer su tamaño (el número de parejas clave:valor):"
   ]
  },
  {
   "cell_type": "code",
   "execution_count": null,
   "metadata": {},
   "outputs": [],
   "source": [
    "len(miagenda)"
   ]
  },
  {
   "cell_type": "markdown",
   "metadata": {
    "collapsed": true
   },
   "source": [
    "# Notas\n",
    "\n",
    "<a name=\"myfootnote1\"><sup>1</sup></a>https://docs.python.org/3.7/tutorial/datastructures.html\n",
    "\n",
    "<a name=\"myfootnote2\"><sup>2</sup></a>https://www.w3schools.com/python/python_lists.asp\n"
   ]
  }
 ],
 "metadata": {
  "kernelspec": {
   "display_name": "Python 3",
   "language": "python",
   "name": "python3"
  },
  "language_info": {
   "codemirror_mode": {
    "name": "ipython",
    "version": 3
   },
   "file_extension": ".py",
   "mimetype": "text/x-python",
   "name": "python",
   "nbconvert_exporter": "python",
   "pygments_lexer": "ipython3",
   "version": "3.7.4"
  }
 },
 "nbformat": 4,
 "nbformat_minor": 2
}
