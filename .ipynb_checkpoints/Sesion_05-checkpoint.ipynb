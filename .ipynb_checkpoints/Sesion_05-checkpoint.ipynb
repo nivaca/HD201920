{
 "cells": [
  {
   "cell_type": "markdown",
   "metadata": {},
   "source": [
    "# [Herramientas digitales — Módulo 1: Texto digital (201920)](HD_Texto_Digital.ipynb)\n",
    "\n",
    "## [Maestría en Humanidades Digitales, Universidad de los Andes](https://posgradosfacartes.uniandes.edu.co/programas/humanidades-digitales/)\n",
    "\n",
    "#### [Nicolás Vaughan](http://nicolasvaughan.org/)\n",
    "\n",
    "## Sesión 5: Introducción a TEI"
   ]
  },
  {
   "cell_type": "markdown",
   "metadata": {},
   "source": [
    "Descaguen e instalen en su equipo el Oxygen XML  \n",
    "\n",
    "- https://www.oxygenxml.com/xml_editor/download_oxygenxml_editor.html\n",
    "    \n",
    "Regístrenlo con sus datos (con la cuenta de prueba que crearon en casa)."
   ]
  },
  {
   "cell_type": "markdown",
   "metadata": {},
   "source": [
    "## Archivos de texto plano (*plain text*) y archivos binarios"
   ]
  },
  {
   "cell_type": "markdown",
   "metadata": {},
   "source": [
    "Bajen estos dos archivos y ábranlos en Microsoft Word:\n",
    "\n",
    "- https://github.com/nivaca/HD201920/blob/master/etc/Prueba.docx\n",
    "- https://github.com/nivaca/HD201920/blob/master/etc/Prueba.rtf"
   ]
  },
  {
   "cell_type": "markdown",
   "metadata": {},
   "source": [
    "Ahora intenten abrirlos con Atom. ¿Qué ven?"
   ]
  },
  {
   "cell_type": "markdown",
   "metadata": {},
   "source": [
    "### Algunos ejemplos interesantes de TEI\n",
    "\n",
    "- Scholastic Commentaries Text Archive (SCTA): http://scta.lombardpress.org\n",
    "  - http://sctalab.lombardpress.org/#/text?resourceid=http://scta.info/resource/wodehamordinatio\n",
    "- Perseus Project: http://www.perseus.tufts.edu\n",
    "  - http://www.perseus.tufts.edu/hopper/text.jsp?doc=Perseus:text:1999.01.0055\n",
    "- Folger Digital Texts: https://www.folgerdigitaltexts.org\n",
    "- Oxford Digital library: http://www.odl.ox.ac.uk\n",
    "  - http://ota.ox.ac.uk/desc/3228\n",
    "- Biblioteca Digital del Pensamiento Novohispano: http://www.bdpn.unam.mx/\n",
    "- ...\n",
    "\n",
    "Para una lista (incompleta) de proyectos, ver https://tei-c.org/Activities/Projects/"
   ]
  },
  {
   "cell_type": "markdown",
   "metadata": {},
   "source": [
    "#### Veamos los *TEI P5 Guidelines*\n",
    "\n",
    "https://www.tei-c.org/release/doc/tei-p5-doc/es/html/index.html"
   ]
  },
  {
   "cell_type": "markdown",
   "metadata": {},
   "source": [
    "#### Bajen los siguientes archivos y ábranlos en Oxygen XML Editor:\n",
    "\n",
    "- https://github.com/nivaca/HD201920/blob/master/etc/corpus.xml\n",
    "- https://github.com/nivaca/HD201920/blob/master/etc/hamlet.xml\n",
    "- https://github.com/nivaca/HD201920/blob/master/etc/london.xml\n",
    " "
   ]
  },
  {
   "cell_type": "markdown",
   "metadata": {},
   "source": [
    "## TEI Lite\n",
    "\n",
    "En Oxygen, creen un nuevo archivo (`File->New`) de tipo `TEI P5 Lite`.\n",
    "\n",
    "Oxygen creará un archivo basado en una plantilla como esta:\n",
    "\n",
    "```XML\n",
    "<?xml version=\"1.0\" encoding=\"UTF-8\"?>\n",
    "<?xml-model href=\"http://www.tei-c.org/release/xml/tei/custom/schema/relaxng/tei_lite.rng\" type=\"application/xml\" schematypens=\"http://relaxng.org/ns/structure/1.0\"?>\n",
    "<?xml-model href=\"http://www.tei-c.org/release/xml/tei/custom/schema/relaxng/tei_lite.rng\" type=\"application/xml\" schematypens=\"http://purl.oclc.org/dsdl/schematron\"?>\n",
    "<TEI xmlns=\"http://www.tei-c.org/ns/1.0\">\n",
    "  <teiHeader>\n",
    "      <fileDesc>\n",
    "         <titleStmt>\n",
    "            <title>Title</title>\n",
    "         </titleStmt>\n",
    "         <publicationStmt>\n",
    "            <p>Publication information</p>        \n",
    "         </publicationStmt>\n",
    "         <sourceDesc>\n",
    "            <p>Information about the source</p>\n",
    "         </sourceDesc>\n",
    "      </fileDesc>\n",
    "  </teiHeader>\n",
    "  <text>\n",
    "      <body>\n",
    "         <p>Some text here.</p>\n",
    "         <figure>\n",
    "            <graphic url=\"http://www.tei-c.org/logos/TEI-glow.png\"/>\n",
    "         </figure>\n",
    "      </body>\n",
    "  </text>\n",
    "</TEI>\n",
    "```"
   ]
  },
  {
   "cell_type": "markdown",
   "metadata": {},
   "source": [
    "## La carta de Julio Cortázar a Jorge Luis Borges (agosto de 1947)\n",
    "\n",
    "![Carta de Cortázar a Borges](https://github.com/nivaca/HD201920/blob/master/img/Cortazar_Borges.jpg?raw=true)\n",
    "\n",
    "##### Transcripción\n",
    "\n",
    "![Carta de Cortázar a Borges](https://github.com/nivaca/HD201920/blob/master/img/cort_borg.png?raw=true)\n"
   ]
  },
  {
   "cell_type": "markdown",
   "metadata": {},
   "source": [
    "- Transcriban el texto de la carta dentro del elemento `<body>` de un archivo de TEI.\n",
    "- Respeten los párrafos (`<p>`) y los saltos de línea (`<lb n=1 />`).\n",
    "- Identifiquen y codifiquen los nombres de personas (`<name>`) y de obras (`<title>`).\n",
    "- Identifiquen y codifiquen el cierre de la carta. Vean [aquí](https://tei-c.org/release/doc/tei-p5-doc/en/html/examples-signed.html)."
   ]
  },
  {
   "cell_type": "markdown",
   "metadata": {},
   "source": [
    "## Carta de Reinaldo Arenas sobre Gabriel García Márquez\n",
    "\n",
    "https://zoevaldes.net/2010/03/21/la-insoporable-fealdad-de-garcia-marquez-texto-inedito-de-reinaldo-arenas/"
   ]
  },
  {
   "cell_type": "markdown",
   "metadata": {},
   "source": [
    "- Transcriban el texto de la carta dentro del elemento `<body>` de un archivo de TEI.\n",
    "- Respeten los párrafos (`<p>`) y los saltos de línea (`<lb n=1 />`).\n",
    "- Identifiquen y codifiquen nombres de personas (`<name>`) y de obras (`<title>`).\n",
    "- Identifiquen y codifiquen las correcciones (adiciones y eliminaciones). Vean [aquí](https://teibyexample.org/modules/TBED06v00.htm#addDel) para saber cómo. Para más detalles, vean [aquí](https://www.tei-c.org/release/doc/tei-p5-doc/es/html/CO.html#COED)."
   ]
  }
 ],
 "metadata": {
  "celltoolbar": "Raw Cell Format",
  "kernelspec": {
   "display_name": "Python 3",
   "language": "python",
   "name": "python3"
  },
  "language_info": {
   "codemirror_mode": {
    "name": "ipython",
    "version": 3
   },
   "file_extension": ".py",
   "mimetype": "text/x-python",
   "name": "python",
   "nbconvert_exporter": "python",
   "pygments_lexer": "ipython3",
   "version": "3.7.4"
  }
 },
 "nbformat": 4,
 "nbformat_minor": 2
}
