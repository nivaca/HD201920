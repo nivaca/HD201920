{
 "cells": [
  {
   "cell_type": "markdown",
   "metadata": {},
   "source": [
    "# Expresiones regulares\n",
    "\n",
    "Python ofrece un excelente soporte para trabajar con RegEx,\n",
    "por medio del módulo `re`:\n",
    "\n",
    "```python\n",
    "import re\n",
    "```\n",
    "\n",
    "Para información detallada véase:\n",
    "\n",
    "https://docs.python.org/3/library/re.html\n",
    "<br>\n",
    "https://docs.python.org/3/howto/regex.html#regex-howto\n",
    "<br>\n",
    "https://www.tutorialspoint.com/python/python_reg_expressions.htm\n",
    "<br>\n",
    "https://www.w3schools.com/python/python_regex.asp\n"
   ]
  },
  {
   "cell_type": "markdown",
   "metadata": {},
   "source": [
    "## Algunos de los métodos más comunes"
   ]
  },
  {
   "cell_type": "markdown",
   "metadata": {},
   "source": [
    "- `search()`: devuelve un objeto de tipo `match` si hay se encuentra algo\n",
    "- `findall()`: devuelve una lista con todos los resultados\n",
    "- `split()`: devuelve una lista donde la cadena se ha cortado en cada coincidencia\n",
    "- `sub()`: reemplaza el texto buscado"
   ]
  },
  {
   "cell_type": "markdown",
   "metadata": {},
   "source": [
    "### 1. `search()`"
   ]
  },
  {
   "cell_type": "code",
   "execution_count": 1,
   "metadata": {},
   "outputs": [
    {
     "name": "stdout",
     "output_type": "stream",
     "text": [
      "<re.Match object; span=(29, 43), match='cuyo nombre no'>\n"
     ]
    }
   ],
   "source": [
    "import re\n",
    "\n",
    "texto = \"En un lugar de la Mancha, de cuyo nombre no quiero acordarme\"\n",
    "patron = \"cuyo.*no\"\n",
    "resultado = re.search(patron, texto)\n",
    "print(resultado)"
   ]
  },
  {
   "cell_type": "code",
   "execution_count": 2,
   "metadata": {
    "scrolled": true
   },
   "outputs": [
    {
     "name": "stdout",
     "output_type": "stream",
     "text": [
      "None\n"
     ]
    }
   ],
   "source": [
    "patron = \"cuyo.*sí\"\n",
    "resultado = re.search(patron, texto)\n",
    "print(resultado)"
   ]
  },
  {
   "cell_type": "markdown",
   "metadata": {},
   "source": [
    "### 2. `findall()` "
   ]
  },
  {
   "cell_type": "code",
   "execution_count": 3,
   "metadata": {},
   "outputs": [
    {
     "name": "stdout",
     "output_type": "stream",
     "text": [
      "['de', 'de']\n"
     ]
    }
   ],
   "source": [
    "texto = \"En un lugar de la Mancha, de cuyo nombre no quiero acordarme\"\n",
    "patron = \"de\"\n",
    "resultado = re.findall(patron, texto)\n",
    "print(resultado)"
   ]
  },
  {
   "cell_type": "markdown",
   "metadata": {},
   "source": [
    "### 3. `split()` "
   ]
  },
  {
   "cell_type": "code",
   "execution_count": 4,
   "metadata": {},
   "outputs": [
    {
     "name": "stdout",
     "output_type": "stream",
     "text": [
      "['En un lugar ', ' la Mancha, ', ' cuyo nombre no quiero acordarme']\n"
     ]
    }
   ],
   "source": [
    "texto = \"En un lugar de la Mancha, de cuyo nombre no quiero acordarme\"\n",
    "patron = \"de\"\n",
    "resultado = re.split(patron, texto)\n",
    "print(resultado)"
   ]
  },
  {
   "cell_type": "markdown",
   "metadata": {},
   "source": [
    "### 4. `sub()` "
   ]
  },
  {
   "cell_type": "code",
   "execution_count": 6,
   "metadata": {},
   "outputs": [
    {
     "name": "stdout",
     "output_type": "stream",
     "text": [
      "En_un_lugar_de_la_Mancha,_de_cuyo_nombre_no_quiero_acordarme\n"
     ]
    }
   ],
   "source": [
    "texto = \"En un lugar de la Mancha, de cuyo nombre no quiero acordarme\"\n",
    "busqueda = \"\\s\" # significa cualquier caracter de espacio en blanco\n",
    "reemplazo = \"_\"\n",
    "resultado = re.sub(busqueda, reemplazo, texto)\n",
    "print(resultado)"
   ]
  },
  {
   "cell_type": "markdown",
   "metadata": {},
   "source": [
    "## *Flags* de compilación de RegEx\n",
    "Hay una serie de *flags* que pueden usarse con RegEx en Python:\n",
    "\n",
    "- `ASCII`, `A`: hace que `\\w`, `\\b`, `\\s`, `\\d` y similares solo capturen caracteres ASCII (i.e. no Unicode)\n",
    "- `DOTALL`, `S`: hace que `.` capture incluso salto de línea (`\\n)\n",
    "- `IGNORECASE`, `I`: hace búsquedas no sensibles a mayúsculas/minúsculas\n",
    "- `LOCALE`, `L`: hace búsquedas restringidas al *locale* (español colombiano, inglés australiano, etc.(\n",
    "\n",
    "Do a locale-aware match.\n",
    "\n",
    "- `MULTILINE`, `M`\n",
    "\n",
    "Multi-line matching, affecting ^ and $.\n",
    "\n",
    "- `VERBOSE`, `X` (for ‘extended’)\n",
    "\n",
    "Enable verbose REs, which can be organized more cleanly and understandably.\n",
    "    \n",
    "    "
   ]
  },
  {
   "cell_type": "markdown",
   "metadata": {},
   "source": [
    "### Un ejemplo más interesante"
   ]
  },
  {
   "cell_type": "code",
   "execution_count": 16,
   "metadata": {},
   "outputs": [
    {
     "name": "stdout",
     "output_type": "stream",
     "text": [
      "Irene Adler DEL TOBOSO\n"
     ]
    }
   ],
   "source": [
    "import requests\n",
    "import re\n",
    "# url = \"https://www.gutenberg.org/cache/epub/2000/pg2000.txt\"\n",
    "# texto = requests.get(url).text\n",
    "\n",
    "texto = \"DULCINEA DEL TOBOSO\"\n",
    "\n",
    "match = re.compile(\"Dulcinea\", re.I)\n",
    "\n",
    "texto = re.sub(r\"Don Quijote\", \"Sherlock Holmes\", texto, re.I)\n",
    "texto = re.sub(r\"Sancho\", \"John Watson\", texto, re.I)\n",
    "texto = re.sub(match, \"Irene Adler\", texto, re.I)\n",
    "texto = re.sub(r\"Dulcinea del Toboso\", \"Irene Adler\", texto, re.I)\n",
    "print(texto)"
   ]
  },
  {
   "cell_type": "code",
   "execution_count": null,
   "metadata": {},
   "outputs": [],
   "source": []
  }
 ],
 "metadata": {
  "kernelspec": {
   "display_name": "Python 3",
   "language": "python",
   "name": "python3"
  },
  "language_info": {
   "codemirror_mode": {
    "name": "ipython",
    "version": 3
   },
   "file_extension": ".py",
   "mimetype": "text/x-python",
   "name": "python",
   "nbconvert_exporter": "python",
   "pygments_lexer": "ipython3",
   "version": "3.7.4"
  }
 },
 "nbformat": 4,
 "nbformat_minor": 2
}
