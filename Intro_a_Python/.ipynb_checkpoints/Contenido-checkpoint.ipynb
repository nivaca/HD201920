{
 "cells": [
  {
   "cell_type": "markdown",
   "metadata": {},
   "source": [
    "# Introducción a Python\n",
    "\n",
    "## Herramientas digitales 2019-20\n",
    "\n",
    "### Por Nicolás Vaughan (n.vaughan@uniandes.edu.co)"
   ]
  },
  {
   "cell_type": "markdown",
   "metadata": {},
   "source": [
    "## Contenido\n",
    "\n",
    "- [01 Introducción](01_Introducción.ipynb)\n",
    "- [02 Cadenas](02_Cadenas.ipynb)\n",
    "- [03 Estructuras_de_datos](03_Estructuras_de_datos.ipynb)\n",
    "- [04 Bucles](04_Bucles.ipynb)\n",
    "- [05 Condicionales](05_Condicionales.ipynb)\n",
    "- [06 Funciones](06_Funciones.ipynb)\n",
    "- [07 Módulos](07_Módulos.ipynb)\n",
    "- [08 Archivos](08_Archivos.ipynb)\n",
    "- [09 Expresiones_regulares](09_Expresiones_regulares.ipynb)\n",
    "- [10 Clases_y_objetos](10_Clases_y_objetos.ipynb)\n",
    "- [11 NLTK](11_NLTK.ipynb)"
   ]
  }
 ],
 "metadata": {
  "kernelspec": {
   "display_name": "Python 3",
   "language": "python",
   "name": "python3"
  },
  "language_info": {
   "codemirror_mode": {
    "name": "ipython",
    "version": 3
   },
   "file_extension": ".py",
   "mimetype": "text/x-python",
   "name": "python",
   "nbconvert_exporter": "python",
   "pygments_lexer": "ipython3",
   "version": "3.7.3"
  }
 },
 "nbformat": 4,
 "nbformat_minor": 2
}
