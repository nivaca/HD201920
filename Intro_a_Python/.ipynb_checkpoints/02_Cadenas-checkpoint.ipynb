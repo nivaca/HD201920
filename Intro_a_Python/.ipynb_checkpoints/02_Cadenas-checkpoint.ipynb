{
 "cells": [
  {
   "cell_type": "markdown",
   "metadata": {
    "collapsed": true
   },
   "source": [
    "# Cadenas (Strings)\n",
    "\n",
    "En Python, las cadenas son conjuntos ordenados de caracteres. (En Python 3, todas las cadenas son de tipo Unicode UTF8.) No hay distinción, como sí la hay en otros lenguajes, entre caracteres y cadenas. Un caracter en Python es simplemente una cadena de un solo elemento.\n",
    "\n",
    "## Temas\n",
    "1. Cómo crear una cadena\n",
    "2. Interpolación de cadenas\n",
    "3. Concatenación de cadenas"
   ]
  },
  {
   "cell_type": "markdown",
   "metadata": {},
   "source": [
    "## Cómo crear una cadena\n",
    "\n",
    "Simplemente se encierran los caracteres entre comillas dobles (\" \") o simples (' ')."
   ]
  },
  {
   "cell_type": "code",
   "execution_count": null,
   "metadata": {},
   "outputs": [],
   "source": [
    "s1 = \"Yo soy una cadena\""
   ]
  },
  {
   "cell_type": "code",
   "execution_count": null,
   "metadata": {},
   "outputs": [],
   "source": [
    "s2 = 'Yo también soy una cadena'"
   ]
  },
  {
   "cell_type": "markdown",
   "metadata": {},
   "source": [
    "Es posible usar unas dentro de otras así:"
   ]
  },
  {
   "cell_type": "code",
   "execution_count": null,
   "metadata": {},
   "outputs": [],
   "source": [
    "'Esto es correcto: \"mi cadena\" '"
   ]
  },
  {
   "cell_type": "code",
   "execution_count": null,
   "metadata": {},
   "outputs": [],
   "source": [
    "\"Esto es correcto: 'mi cadena' \""
   ]
  },
  {
   "cell_type": "markdown",
   "metadata": {},
   "source": [
    "Pero esto es un error:"
   ]
  },
  {
   "cell_type": "code",
   "execution_count": null,
   "metadata": {},
   "outputs": [],
   "source": [
    "\" Esto es un error: \"mi cadena\" \""
   ]
  },
  {
   "cell_type": "markdown",
   "metadata": {},
   "source": [
    "NOTA: En Python 3 todas las cadenas por default son del tipo Unicode UTF-8. Esto significa que podemos usar acentos, etc., sin requerir bibliotecas o conversiones adicionales."
   ]
  },
  {
   "cell_type": "markdown",
   "metadata": {},
   "source": [
    "También podemos usar explícitamente cadenas de múltiples líneas de texto. Para ello, las encerramos en triples comillas (sencillas o dobles):"
   ]
  },
  {
   "cell_type": "code",
   "execution_count": null,
   "metadata": {},
   "outputs": [],
   "source": [
    "a = \"\"\"\n",
    "Esta es una\n",
    "\n",
    "cadena\n",
    "\n",
    "\n",
    "\n",
    "de múltiples líneas\n",
    "\"\"\"\n",
    "print(a)"
   ]
  },
  {
   "cell_type": "markdown",
   "metadata": {},
   "source": [
    "### Imprimir cadenas"
   ]
  },
  {
   "cell_type": "markdown",
   "metadata": {},
   "source": [
    "Para imprimir cadenas (en pantalla) usamos la función `print()`. Las funciones pueden tomar argumentos (también llamados \"parámetros\") para procesarlos. Todos los argumentos se encierran entre los paréntesis de la función y se separan con coma.\n",
    "\n",
    "Miremos la documentación de `print()`:"
   ]
  },
  {
   "cell_type": "code",
   "execution_count": 6,
   "metadata": {},
   "outputs": [],
   "source": [
    "?print"
   ]
  },
  {
   "cell_type": "markdown",
   "metadata": {},
   "source": [
    "Como podemos ver, los diferentes valores que queramos imprimir se ponen como argumentos, separados con comas. Por ejemplo:"
   ]
  },
  {
   "cell_type": "code",
   "execution_count": 5,
   "metadata": {},
   "outputs": [
    {
     "name": "stdout",
     "output_type": "stream",
     "text": [
      "Hola, ¿cómo estás?\n"
     ]
    }
   ],
   "source": [
    "print(\"Hola,\", \"¿cómo\", \"estás?\")"
   ]
  },
  {
   "cell_type": "markdown",
   "metadata": {},
   "source": [
    "Por defecto, cuando imprime con `print()` Python separa los valores con un espacio en blanco. Pero podemos usar `sep=` para especificar otro caracter (o caracteres) de separación. Por ejemplo:"
   ]
  },
  {
   "cell_type": "code",
   "execution_count": null,
   "metadata": {},
   "outputs": [],
   "source": [
    "print(\"Hola,\", \"¿cómo\", \"estás?\", sep=\"_\")"
   ]
  },
  {
   "cell_type": "code",
   "execution_count": 7,
   "metadata": {},
   "outputs": [
    {
     "name": "stdout",
     "output_type": "stream",
     "text": [
      "Hola,____%%%____¿cómo____%%%____estás?\n"
     ]
    }
   ],
   "source": [
    "print(\"Hola,\", \"¿cómo\", \"estás?\", sep=\"____%%%____\")"
   ]
  },
  {
   "cell_type": "markdown",
   "metadata": {},
   "source": [
    "También podemos usar `end=` para que `print()` use un caracter al final de línea distinto de `\\n` (o `\\r\\n` en Windows). Por ejemplo, comparan esto:"
   ]
  },
  {
   "cell_type": "code",
   "execution_count": 8,
   "metadata": {},
   "outputs": [
    {
     "name": "stdout",
     "output_type": "stream",
     "text": [
      "línea 1\n",
      "línea 2\n",
      "línea 3\n"
     ]
    }
   ],
   "source": [
    "print(\"línea 1\")\n",
    "print(\"línea 2\")\n",
    "print(\"línea 3\")"
   ]
  },
  {
   "cell_type": "markdown",
   "metadata": {},
   "source": [
    "con esto:"
   ]
  },
  {
   "cell_type": "code",
   "execution_count": 9,
   "metadata": {},
   "outputs": [
    {
     "name": "stdout",
     "output_type": "stream",
     "text": [
      "línea 1---->línea 2---->línea 3\n"
     ]
    }
   ],
   "source": [
    "print(\"línea 1\", end=\"---->\")\n",
    "print(\"línea 2\", end=\"---->\")\n",
    "print(\"línea 3\")"
   ]
  },
  {
   "cell_type": "markdown",
   "metadata": {},
   "source": [
    "## Interpolación de cadenas\n",
    "\n",
    "Python permite interpolar cadenas (es decir, introducir una cadena dentro de otra) de muchas formas. La primera es con el caracter `%s`, por ejemplo:"
   ]
  },
  {
   "cell_type": "code",
   "execution_count": 10,
   "metadata": {},
   "outputs": [
    {
     "name": "stdout",
     "output_type": "stream",
     "text": [
      "¡Hola mundo! Este es Python.\n"
     ]
    }
   ],
   "source": [
    "nombre = 'mundo'\n",
    "programa ='Python'\n",
    "micadena = \"¡Hola %s! Este es %s.\"%(nombre, programa)\n",
    "print(micadena)"
   ]
  },
  {
   "cell_type": "markdown",
   "metadata": {},
   "source": [
    "Esto puede parecer algo complicado, pues debemos especificar el tipo de datos de la cadena interpolada (`%s` para cadena, `%d` para números enteros, `%f` para números flotantes, etc.).\n",
    "\n",
    "Afortunadamente, desde Python 3.6 hay otro método más fácil con las denominadas \"cadenas-f\", por ejemplo:"
   ]
  },
  {
   "cell_type": "code",
   "execution_count": 11,
   "metadata": {},
   "outputs": [
    {
     "name": "stdout",
     "output_type": "stream",
     "text": [
      "¡Hola mundo! Este es Python.\n"
     ]
    }
   ],
   "source": [
    "nombre = 'mundo'\n",
    "programa ='Python'\n",
    "micadena = f\"¡Hola {nombre}! Este es {programa}.\"\n",
    "print(micadena)"
   ]
  },
  {
   "cell_type": "markdown",
   "metadata": {},
   "source": [
    "(Noten la `f` antes de las comillas iniciales. Esto le dice a Python que es una cadena-f, esto es, que contiene interpolaciones con variables encerradas entre `{ }`.)"
   ]
  },
  {
   "cell_type": "markdown",
   "metadata": {},
   "source": [
    "## Concatenación de cadenas\n",
    "\n",
    "Hay varias formas de pegar cadenas (concatenar) en Python.\n",
    "\n",
    "### La primera usa el caracter `+` para eso, por ejemplo:"
   ]
  },
  {
   "cell_type": "code",
   "execution_count": null,
   "metadata": {},
   "outputs": [],
   "source": [
    "a = \"Universidad \"\n",
    "b = \"de \"\n",
    "c = \"los \"\n",
    "d = \"Andes\"\n",
    "todo = a + b + c +  d\n",
    "print(todo)"
   ]
  },
  {
   "cell_type": "markdown",
   "metadata": {},
   "source": [
    "En el ejemplo anterior, noten los espacios en blancos al final de las primeras tres cadenas. Otra forma sería:"
   ]
  },
  {
   "cell_type": "code",
   "execution_count": null,
   "metadata": {},
   "outputs": [],
   "source": [
    "a = \"Universidad\"\n",
    "b = \"de\"\n",
    "c = \"los\"\n",
    "d = \"Andes\"\n",
    "bl = \" \"\n",
    "todo = a + bl + b + bl + c + bl + d\n",
    "print(todo)"
   ]
  },
  {
   "cell_type": "markdown",
   "metadata": {},
   "source": [
    "### Otra forma para concatenar con las cadenas-f, así:"
   ]
  },
  {
   "cell_type": "code",
   "execution_count": null,
   "metadata": {},
   "outputs": [],
   "source": [
    "a = \"Universidad\"\n",
    "b = \"de\"\n",
    "c = \"los\"\n",
    "d = \"Andes\"\n",
    "todo = f\"{a} {b} {c} {d}\"\n",
    "print(todo)"
   ]
  },
  {
   "cell_type": "markdown",
   "metadata": {},
   "source": [
    "### Los creadores de Python recomiendan usar el operador `+=` para concatenar.\n",
    "Nota: `a = a + b`\n",
    "es equivalente a \n",
    "`a += b`\n",
    "\n",
    "Por ejemplo:"
   ]
  },
  {
   "cell_type": "code",
   "execution_count": null,
   "metadata": {},
   "outputs": [],
   "source": [
    "a = \"Universidad\"\n",
    "b = \"de\"\n",
    "c = \"los\"\n",
    "d = \"Andes\"\n",
    "todo = \"\" # esto lo necesitamos porque la variable `todo` ya tiene contenido (asignado en una celda anterior)\n",
    "todo += a\n",
    "todo += \" \"\n",
    "todo += b\n",
    "todo += \" \"\n",
    "todo += c\n",
    "todo += \" \"\n",
    "todo += d\n",
    "print(todo)"
   ]
  },
  {
   "cell_type": "markdown",
   "metadata": {},
   "source": [
    "## Dentro de las cadenas\n",
    "\n",
    "Las cadenas son precisamente eso: *cadenas* de caracteres. Podemos acceder a ellos con los índices encerrados entre corchetes cuadrados. El índice `0` es el primer caracter y `-1` es, por definición, el último. Por ejemplo:"
   ]
  },
  {
   "cell_type": "code",
   "execution_count": null,
   "metadata": {},
   "outputs": [],
   "source": [
    "a = \"mi cadena!\"\n",
    "print(a[0])\n",
    "print(a[2])\n",
    "print(a[-1])"
   ]
  },
  {
   "cell_type": "markdown",
   "metadata": {},
   "source": [
    "Para saber el tamaño de una cadena usamos la función `len()`:"
   ]
  },
  {
   "cell_type": "code",
   "execution_count": 13,
   "metadata": {},
   "outputs": [
    {
     "name": "stdout",
     "output_type": "stream",
     "text": [
      "10\n"
     ]
    }
   ],
   "source": [
    "cadena = \"abcdefghij\"\n",
    "print(len(cadena))"
   ]
  },
  {
   "cell_type": "markdown",
   "metadata": {},
   "source": [
    "También podemos especificar rebanadas (*slices*) de caracteres usando `:`, así:"
   ]
  },
  {
   "cell_type": "code",
   "execution_count": 18,
   "metadata": {},
   "outputs": [
    {
     "name": "stdout",
     "output_type": "stream",
     "text": [
      "ef\n",
      "efghij\n",
      "abcdef\n",
      "abcdefghij\n",
      "abcdefghij\n"
     ]
    }
   ],
   "source": [
    "cadena = \"abcdefghij\"\n",
    "print(cadena[4:6])\n",
    "print(cadena[4:])\n",
    "print(cadena[:6])\n",
    "print(cadena[:])\n",
    "print(cadena[0:10])"
   ]
  }
 ],
 "metadata": {
  "kernelspec": {
   "display_name": "Python 3",
   "language": "python",
   "name": "python3"
  },
  "language_info": {
   "codemirror_mode": {
    "name": "ipython",
    "version": 3
   },
   "file_extension": ".py",
   "mimetype": "text/x-python",
   "name": "python",
   "nbconvert_exporter": "python",
   "pygments_lexer": "ipython3",
   "version": "3.7.4"
  }
 },
 "nbformat": 4,
 "nbformat_minor": 2
}
