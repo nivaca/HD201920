{
 "cells": [
  {
   "cell_type": "markdown",
   "metadata": {
    "collapsed": true
   },
   "source": [
    "# Bucles\n",
    "\n",
    "Temas:\n",
    "1. bucles `while` \n",
    "2. bucles `for`\n",
    "\n",
    "Un bucle es una instrucción que repite una serie de operaciones, dada una cierta condición. Python tiene dos clases de bucle: `while` y `for`."
   ]
  },
  {
   "cell_type": "markdown",
   "metadata": {},
   "source": [
    "## Nota importantísima sobre los espacios (el sangrado) en Python\n",
    "\n",
    "A diferencia de otros lenguajes (e.g. C, Java, Javascript) que identifican sus bloques de operación por medio de llaves (`{ }`) u otros signos, Python lo hace por medio de espacios en blanco (sangrado, *indent*). Hay que ser muy cuidadosos, por tanto, de respetar el sangrado en los bloques.\n",
    "\n",
    "Clave: si una variable es creada o alterada dentro de un bloque, fuera de él no existirá o, si ya estaba definida, tendrá otro valor. Los bloques nos sirven no solo para organizar las operaciones, sino para tener variables \"locales\".\n",
    "\n",
    "Por ejemplo:\n",
    "\n",
    "```\n",
    "a=1\n",
    "...\n",
    "    a=2\n",
    "...\n",
    "print(a)\n",
    "```\n",
    "imprimirá `1` porque la segunda asignación (`a=1`) está circunscrita a otro bloque, mientras que la primera (`a=1`) está al mismo nivel del `print`."
   ]
  },
  {
   "cell_type": "markdown",
   "metadata": {},
   "source": [
    "## 1. Bucles `while`\n",
    "\n",
    "Su sintaxis es:\n",
    "\n",
    "```python\n",
    "while condición:\n",
    "    instrucción01\n",
    "    instrucción02\n",
    "    . . . \n",
    "```\n",
    "Noten, primero, el signo de dos puntos (`:`) para inicar el bloque de `while` luego de la condición.\n",
    "\n",
    "Noten, segundo, que el bloque de instrucciones del bucle está sangrado con cuatro espacios en blanco. \n",
    "(Nuestro editor de texto nos ayuda a hacer esto automáticamente. También podemos usar la tecla de tabulación.) \n",
    "Si estuviera anidado dentro de otros bloques, habría que respetarse la indentación precedente."
   ]
  },
  {
   "cell_type": "markdown",
   "metadata": {},
   "source": [
    "Consideremos ahora un ejemplo de un bucle `while`:"
   ]
  },
  {
   "cell_type": "code",
   "execution_count": null,
   "metadata": {},
   "outputs": [],
   "source": [
    "n = 0\n",
    "while n < 10:\n",
    "    n += 1 # esto es lo mismo que: n = n + 1\n",
    "    print(n)"
   ]
  },
  {
   "cell_type": "markdown",
   "metadata": {},
   "source": [
    "Podemos anidar bucles `while` así:"
   ]
  },
  {
   "cell_type": "code",
   "execution_count": null,
   "metadata": {},
   "outputs": [],
   "source": [
    "m = 0\n",
    "while m < 5:\n",
    "    n = 0\n",
    "    while n < 5:\n",
    "        n += 1\n",
    "        print(n)\n",
    "    m += 1"
   ]
  },
  {
   "cell_type": "markdown",
   "metadata": {},
   "source": [
    "Los bucles son muy útiles con estructuras de datos. Por ejemplo:"
   ]
  },
  {
   "cell_type": "code",
   "execution_count": null,
   "metadata": {},
   "outputs": [],
   "source": [
    "misamigos = [\"Ted\", \"Robyn\", \"Barney\", \"Lily\", \"Marshall\"]\n",
    "\n",
    "i = 0\n",
    "while i < len(misamigos):\n",
    "    amigo = misamigos[i]\n",
    "    print(f\"Hola {amigo}, ¡gusto en verte!\")\n",
    "    i += 1"
   ]
  },
  {
   "cell_type": "markdown",
   "metadata": {},
   "source": [
    "## 2. Bucles `for`\n",
    "\n",
    "La sintaxis para un bucle `for` es\n",
    "\n",
    "```python\n",
    "for variable in iterable:\n",
    "    instrucción01\n",
    "    instrucción02\n",
    "    . . . \n",
    "```\n",
    "\n",
    "Los iterables son objetos de Python que son \"capaces de devolver sus miembros uno a uno\". \n",
    "\n",
    "Las estructuras de datos son ejemplos de iterables.\n",
    "\n",
    "Por ejemplo:"
   ]
  },
  {
   "cell_type": "code",
   "execution_count": null,
   "metadata": {},
   "outputs": [],
   "source": [
    "for n in [1, 2, 3, 4, 5]:\n",
    "    print(n)"
   ]
  },
  {
   "cell_type": "markdown",
   "metadata": {},
   "source": [
    "Python también tiene la función iterable `range()`, cuya sintaxis es:\n",
    "```\n",
    "range([inicio,] fin[, salto])\n",
    "```\n",
    "\n",
    "donde `inicio` es el argumento opcional que contiene el valor inicial de la iteración (por defecto 0), `fin` es el valor final, y el argumento opcional `salto` indica los saltos de cada iteración (por defecto 1).\n",
    "\n",
    "```\n",
    "range(fin)\n",
    "```\n",
    "\n",
    "es entonces equivalente a `range(0, fin, 1)`. \n",
    "\n",
    "Más detalladamente, un bucle de `if` con `range` como este:"
   ]
  },
  {
   "cell_type": "code",
   "execution_count": null,
   "metadata": {},
   "outputs": [],
   "source": [
    "for i in range(5):\n",
    "    print(i)"
   ]
  },
  {
   "cell_type": "markdown",
   "metadata": {},
   "source": [
    "es equivalente al siguiente bucle `while`:    "
   ]
  },
  {
   "cell_type": "code",
   "execution_count": null,
   "metadata": {},
   "outputs": [],
   "source": [
    "inicio = 0\n",
    "fin = 5\n",
    "salto = 1\n",
    "while inicio < fin:\n",
    "    print(inicio)\n",
    "    inicio += 1"
   ]
  },
  {
   "cell_type": "markdown",
   "metadata": {},
   "source": [
    "Otros ejemplos con `range()`:"
   ]
  },
  {
   "cell_type": "code",
   "execution_count": null,
   "metadata": {},
   "outputs": [],
   "source": [
    "for i in range(2, 10):\n",
    "    print(i)"
   ]
  },
  {
   "cell_type": "code",
   "execution_count": null,
   "metadata": {},
   "outputs": [],
   "source": [
    "for i in range(0, 10, 2):\n",
    "    print(i)"
   ]
  },
  {
   "cell_type": "code",
   "execution_count": null,
   "metadata": {},
   "outputs": [],
   "source": [
    "for i in range(10, 0, -1):\n",
    "    print(i)"
   ]
  },
  {
   "cell_type": "code",
   "execution_count": null,
   "metadata": {},
   "outputs": [],
   "source": [
    "En Python también podemos iterar sobre datos estructurados, por ejemplo:"
   ]
  },
  {
   "cell_type": "code",
   "execution_count": null,
   "metadata": {},
   "outputs": [],
   "source": [
    "misamigos = [\"Ted\", \"Robyn\", \"Barney\", \"Lily\", \"Marshall\"]\n",
    "for amigo in misamigos:\n",
    "    print(amigo)"
   ]
  },
  {
   "cell_type": "code",
   "execution_count": null,
   "metadata": {},
   "outputs": [],
   "source": [
    "animales = (\"pingüino\", \"gato\", \"petauro_del_azúcar\")\n",
    "for i in animales:\n",
    "    print(i)"
   ]
  },
  {
   "cell_type": "code",
   "execution_count": null,
   "metadata": {},
   "outputs": [],
   "source": [
    "miconjunto = {\"bajo\", \"saxo\", \"batería\"}\n",
    "for i in miconjunto:\n",
    "    print(i)"
   ]
  },
  {
   "cell_type": "code",
   "execution_count": null,
   "metadata": {},
   "outputs": [],
   "source": [
    "miagenda = {\"Jenny\":\"867-5309\", \"Cazafantasmas\":\"555-2368\"}\n",
    "for a in miagenda:\n",
    "    print(a)"
   ]
  },
  {
   "cell_type": "markdown",
   "metadata": {},
   "source": [
    "También podemos hacer esto con los diccionarios:"
   ]
  },
  {
   "cell_type": "code",
   "execution_count": null,
   "metadata": {},
   "outputs": [],
   "source": [
    "miagenda = {\"Jenny\":\"867-5309\", \"Cazafantasmas\":\"555-2368\"}\n",
    "for a in miagenda:\n",
    "    print(a, miagenda[a])"
   ]
  },
  {
   "cell_type": "markdown",
   "metadata": {},
   "source": [
    "Nota: \n",
    "aunque los argumentos de `print()` se separan con comas (por ejemplo: `print(a, miagenda[a])`), la función los *imprime* separados por un espacio en blanco.\n",
    "Así, la instrucción `print(a, miagenda[a])` produce el mismo resultado que: `print(f\"{a} {miagenda[a]}\")`."
   ]
  },
  {
   "cell_type": "markdown",
   "metadata": {},
   "source": [
    "Noten que *no* podemos hacer algo igual con `while`:"
   ]
  },
  {
   "cell_type": "code",
   "execution_count": null,
   "metadata": {},
   "outputs": [],
   "source": [
    "misamigos = [\"Ted\", \"Robyn\", \"Barney\", \"Lily\", \"Marshall\"]\n",
    "while i in misamigos:\n",
    "    print(f\"Hola {i}, ¡gusto en verte!\")"
   ]
  },
  {
   "cell_type": "markdown",
   "metadata": {},
   "source": [
    "## Bucles `for` y cadenas\n",
    "Ejecuten y analicen la siguientes dos instrucciones:"
   ]
  },
  {
   "cell_type": "code",
   "execution_count": null,
   "metadata": {},
   "outputs": [],
   "source": [
    "cadena = \"Universidad de los Andes\"\n",
    "for c in cadena:\n",
    "    print(c)"
   ]
  },
  {
   "cell_type": "code",
   "execution_count": null,
   "metadata": {},
   "outputs": [],
   "source": [
    "cadena = \"Universidad de los Andes\"\n",
    "for i in range(len(cadena)):\n",
    "    print(cadena[i])"
   ]
  },
  {
   "cell_type": "markdown",
   "metadata": {},
   "source": [
    "¿Qué ocurrió en ellas? ¿Cómo se diferencian?\n",
    "\n",
    "Ahora miren el siguiente ejemplo:"
   ]
  },
  {
   "cell_type": "code",
   "execution_count": null,
   "metadata": {},
   "outputs": [],
   "source": [
    "cadena = \"Universidad de los Andes\"\n",
    "for i in range(len(cadena), 0, -1):\n",
    "    print(cadena[i-1])"
   ]
  },
  {
   "cell_type": "code",
   "execution_count": null,
   "metadata": {},
   "outputs": [],
   "source": [
    "¿Qué pasa si en lugar de `print(cadena[i-1])` ponemos simplemente `print(cadena[i])`?\n",
    "\n",
    "Ahora examinen el siguiente código:"
   ]
  },
  {
   "cell_type": "code",
   "execution_count": null,
   "metadata": {},
   "outputs": [],
   "source": [
    "cadena = \"Universidad de los Andes\"\n",
    "nueva = \"\"\n",
    "for i in range(len(cadena), 0, -1):\n",
    "    nueva += cadena[i-1]\n",
    "print(nueva)"
   ]
  }
 ],
 "metadata": {
  "kernelspec": {
   "display_name": "Python 3",
   "language": "python",
   "name": "python3"
  },
  "language_info": {
   "codemirror_mode": {
    "name": "ipython",
    "version": 3
   },
   "file_extension": ".py",
   "mimetype": "text/x-python",
   "name": "python",
   "nbconvert_exporter": "python",
   "pygments_lexer": "ipython3",
   "version": "3.7.4"
  }
 },
 "nbformat": 4,
 "nbformat_minor": 2
}
