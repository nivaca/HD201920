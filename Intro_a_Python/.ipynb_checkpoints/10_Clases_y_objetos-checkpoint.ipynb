{
 "cells": [
  {
   "cell_type": "markdown",
   "metadata": {},
   "source": [
    "# Clases y objetos en Python\n",
    "\n",
    "A veces es útil, a fin de organizar nuestra información e instrucciones, usar \"clases\" (*classes*) y \"objetos\" (*objects*) en Python. \n",
    "\n",
    "Las clases son similares a datos estructurados, en el sentido en que pueden contener muchos tipos de información. Pero también pueden contener funciones, es decir, instrucciones, que en la terminología de Python se llaman \"métodos\" (*methods*).\n",
    "\n",
    "Siempre que vayamos a usar una clase en Python debemos \"instanciarla\", es decir, crear un objeto de ella. \n",
    "\n",
    "Por ejemplo:"
   ]
  },
  {
   "cell_type": "code",
   "execution_count": null,
   "metadata": {},
   "outputs": [],
   "source": [
    "class Celular:\n",
    "    def __init__(self, nombre, tipo, marca, numero):\n",
    "        self.nombre = nombre\n",
    "        self.tipo = tipo\n",
    "        self.marca = marca\n",
    "        self.numero = numero\n",
    "    def identificarse(self):\n",
    "        print(f\"\"\"Soy el {self.nombre}.\n",
    "        Soy un celular de tipo {self.tipo} y marca {self.marca}.\n",
    "        Mi número es: {self.numero}.\"\"\")      \n",
    "        \n",
    "# creamos el objeto \"celuvaughan\" de la clase \"celular\":\n",
    "cvaughan = Celular(\"celular de Nicolás Vaughan\", \"Android\", \"Motorola\", \"123-456-7890\") \n",
    "\n",
    "# creamos el objeto \"celuvaughan\" de la clase \"celular\":\n",
    "cdiana = Celular(\"celular de Diana Muñoz\", \"iOS\", \"IPhone\", \"234-567-1098\") \n",
    "\n",
    "cvaughan.identificarse()\n",
    "\n",
    "cdiana.identificarse()"
   ]
  },
  {
   "cell_type": "markdown",
   "metadata": {},
   "source": [
    "El método `__init__()` es el \"inicializador\" del objeto, es decir, es el método que se ejecuta cuando un nuevo objeto de la clase se crea. En nuestro caso, asigna valores de las variables de método `nombre, tipo, marca, numero` a las variables de objeto `nombre, tipo, marca, numero`.\n",
    "\n",
    "Los métodos y variables propios de un objeto se prefijan siempre `self.`."
   ]
  },
  {
   "cell_type": "markdown",
   "metadata": {},
   "source": [
    "### Podemos cambiar variables (\"atributos\") de un objeto:"
   ]
  },
  {
   "cell_type": "code",
   "execution_count": null,
   "metadata": {},
   "outputs": [],
   "source": [
    "cvaughan.numero = \"000-111-2222\"\n",
    "cvaughan.identificarse()"
   ]
  },
  {
   "cell_type": "markdown",
   "metadata": {},
   "source": [
    "## Las clases también pueden \"heredarse\":"
   ]
  },
  {
   "cell_type": "code",
   "execution_count": null,
   "metadata": {},
   "outputs": [],
   "source": [
    "class Celularandroid(Celular):\n",
    "    pass # no haga nada más que crear la clase herdada"
   ]
  },
  {
   "cell_type": "code",
   "execution_count": null,
   "metadata": {},
   "outputs": [],
   "source": [
    "otrocel = Celularandroid(\"celular de Lucas\", \"Huawey\", \"234-2342-1111\",  \"android\")"
   ]
  },
  {
   "cell_type": "code",
   "execution_count": null,
   "metadata": {},
   "outputs": [],
   "source": [
    "otrocel.identificarse()"
   ]
  },
  {
   "cell_type": "markdown",
   "metadata": {},
   "source": [
    "Pero lo bueno de la herencia de clases es poder heredar algunos comportamientos y tener otros distintos."
   ]
  }
 ],
 "metadata": {
  "kernelspec": {
   "display_name": "Python 3",
   "language": "python",
   "name": "python3"
  },
  "language_info": {
   "codemirror_mode": {
    "name": "ipython",
    "version": 3
   },
   "file_extension": ".py",
   "mimetype": "text/x-python",
   "name": "python",
   "nbconvert_exporter": "python",
   "pygments_lexer": "ipython3",
   "version": "3.7.3"
  }
 },
 "nbformat": 4,
 "nbformat_minor": 2
}
