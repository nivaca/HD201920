{
 "cells": [
  {
   "cell_type": "markdown",
   "metadata": {
    "collapsed": true
   },
   "source": [
    "# Módulos\n",
    "\n",
    "Un módulo (llamado en otros lenguajes \"paquete\" o \"librería\") es una manera de compartimentalizar y reusar código e información, de tal modo que sea fácilmente asequible para el usuario/programador.\n",
    "\n",
    "Hay módulos que contienen código para operaciones del sistema (`sys`), RegEx (`re`), fecha y hora (`datetime`), en fin, todo lo que se le pueda ocurrir a uno.\n",
    "\n",
    "Una de las ventajas de Python es su vasta librería de módulos, bien sean los \"oficiales\" de la \tPython Software Foundation (https://docs.python.org/3/py-modindex.html) o los contribuidos por otras personas (https://pypi.org).\n",
    "\n",
    "De hecho, incluso si uno no está particularmente interesado en compartir su software con otros programadores, puede resultar útil organizar parte de su código en diferentes módulos, sobre todo en proyectos medianos o grandes.\n",
    "\n",
    "## Hay varias formas de importar código en Python:\n",
    "\n",
    "1. `import ...`\n",
    "2. `from ... import ...`\n",
    "3. `from ... import ... as ...`\n",
    "4. `import ... as ...`"
   ]
  },
  {
   "cell_type": "markdown",
   "metadata": {},
   "source": [
    "## 1. `import ...`\n",
    "Para cargar un módulo completo en Python usamos la instrucción `import`. Por ejemplo:"
   ]
  },
  {
   "cell_type": "code",
   "execution_count": null,
   "metadata": {},
   "outputs": [],
   "source": [
    "import datetime\n",
    "datetime.date.today()"
   ]
  },
  {
   "cell_type": "markdown",
   "metadata": {},
   "source": [
    "En el ejemplo anterior, `today()` es un método de la clase `date` (eso es lo que significa: `date.today()`). \n",
    "\n",
    "Pero debemos indicarle a Python que `date.today()` pertenece a la clase `datetime`(y eso es lo que significa: `datetime.date.today()`)\n",
    "\n",
    "Si no lo hacemos, Python no podrá encontrarlo y arrojará un error:"
   ]
  },
  {
   "cell_type": "code",
   "execution_count": null,
   "metadata": {},
   "outputs": [],
   "source": [
    "import datetime\n",
    "date.today()"
   ]
  },
  {
   "cell_type": "markdown",
   "metadata": {},
   "source": [
    "## 2. `from ... import ...`\n",
    "Por simplicidad y por eficiencia, podemos decidir importar solo algunas partes (\"clases\") dentro de los módulos. Por ejemplo:"
   ]
  },
  {
   "cell_type": "code",
   "execution_count": null,
   "metadata": {},
   "outputs": [],
   "source": [
    "from datetime import date\n",
    "date.today()"
   ]
  },
  {
   "cell_type": "markdown",
   "metadata": {},
   "source": [
    "En ese caso, *no* necesitamos prefijar los métodos o elementos con el nombre del módulo (`datetime.`). Python ya sabe que tiene acceso directo a ellos."
   ]
  },
  {
   "cell_type": "markdown",
   "metadata": {},
   "source": [
    "## 3. `from ... import ... as ...`"
   ]
  },
  {
   "cell_type": "markdown",
   "metadata": {},
   "source": [
    "También podemos usar alias o pseudónimos cuando importamos código. Por ejemplo:"
   ]
  },
  {
   "cell_type": "code",
   "execution_count": null,
   "metadata": {},
   "outputs": [],
   "source": [
    "from datetime import date as fecha\n",
    "fecha.today()"
   ]
  },
  {
   "cell_type": "markdown",
   "metadata": {},
   "source": [
    "En el anterior ejemplo, estamos usando `fecha` como un alias del método `date`."
   ]
  },
  {
   "cell_type": "markdown",
   "metadata": {},
   "source": [
    "## 4. `import ... as ...`\n",
    "Finalmente, podemos usar un alias para el módulo completo:"
   ]
  },
  {
   "cell_type": "code",
   "execution_count": null,
   "metadata": {},
   "outputs": [],
   "source": [
    "import datetime as horayfecha\n",
    "horayfecha.date.today()"
   ]
  },
  {
   "cell_type": "markdown",
   "metadata": {},
   "source": [
    "# Cómo crear módulos\n",
    "\n",
    "Es muy simple crear nuestros módulos en Python (y, si queremos, compartirlos con otras personas).\n",
    "\n",
    "Tan solo debemos crear un archivo con extensión `.py` con el nombre de nuestro módulo. Dentro de él, estarán todas las funciones, definciones, clases, etc., que queramos poner disponible.\n",
    "\n",
    "Por ejemplo, en el módulo `vaughan.py` (que está en el subdirectorio de estos archivos) definí una función llamada `darlavuelta()`.  Podemos aprovecharla así:"
   ]
  },
  {
   "cell_type": "code",
   "execution_count": null,
   "metadata": {},
   "outputs": [],
   "source": [
    "import vaughan\n",
    "texto = \"En un lugar de la Mancha\"\n",
    "resultado = vaughan.darlavuelta(texto)\n",
    "print(resultado)"
   ]
  },
  {
   "cell_type": "markdown",
   "metadata": {},
   "source": [
    "También podemos acceder a variables que ahí hayamos definido, por ejemplo:"
   ]
  },
  {
   "cell_type": "code",
   "execution_count": null,
   "metadata": {},
   "outputs": [],
   "source": [
    "import vaughan\n",
    "vaughan.quijoteprincipio"
   ]
  }
 ],
 "metadata": {
  "kernelspec": {
   "display_name": "Python 3",
   "language": "python",
   "name": "python3"
  },
  "language_info": {
   "codemirror_mode": {
    "name": "ipython",
    "version": 3
   },
   "file_extension": ".py",
   "mimetype": "text/x-python",
   "name": "python",
   "nbconvert_exporter": "python",
   "pygments_lexer": "ipython3",
   "version": "3.7.4"
  }
 },
 "nbformat": 4,
 "nbformat_minor": 2
}
