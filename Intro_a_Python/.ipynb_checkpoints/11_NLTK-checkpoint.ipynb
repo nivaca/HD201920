{
 "cells": [
  {
   "cell_type": "markdown",
   "metadata": {},
   "source": [
    "# El módulo de Natural Language Toolkit (NLTK)"
   ]
  },
  {
   "cell_type": "markdown",
   "metadata": {},
   "source": [
    "## 1. Cómo instalarlo\n",
    "Desde el Anaconda Navigator, busquen e instalen el paquete `nltk`\n",
    "\n",
    "O desde el terminal:\n",
    "\n",
    "```\n",
    "conda install nltk\n",
    "```\n",
    "\n",
    "Luego en Jupyter ejecuten lo siguiente:"
   ]
  },
  {
   "cell_type": "code",
   "execution_count": null,
   "metadata": {},
   "outputs": [],
   "source": [
    "import nltk\n",
    "nltk.download()"
   ]
  },
  {
   "cell_type": "markdown",
   "metadata": {},
   "source": [
    "Eso abrirá la aplicación de instalación:\n",
    "    \n",
    "![nltk01](https://raw.githubusercontent.com/nivaca/HD201920/master/intro-a-python/nltk01.png)\n",
    "\n",
    "\n",
    "<br><br>\n",
    "\n",
    "Ahora seleccionan \"all\" y pulsan \"Download\":\n",
    "\n",
    "![nltk02](https://raw.githubusercontent.com/nivaca/HD201920/master/intro-a-python/nltk02.png)\n",
    "\n",
    "Eso se demorará un buen rato, mientras baja todos los \"corpora\" necesarios para el procesamiento de lenguaje natural."
   ]
  },
  {
   "cell_type": "markdown",
   "metadata": {},
   "source": [
    "## 2. Uso básico"
   ]
  },
  {
   "cell_type": "markdown",
   "metadata": {},
   "source": [
    "### Primero bajaremos *Niebla* de Miguel de Unamuno y lo guardaremos en el disco duro"
   ]
  },
  {
   "cell_type": "code",
   "execution_count": null,
   "metadata": {},
   "outputs": [],
   "source": [
    "import requests\n",
    "url = \"https://www.gutenberg.org/files/49836/49836-0.txt\"\n",
    "r = requests.get(url)\n",
    "with open('niebla.txt', 'wb') as f:\n",
    "    f.write(r.content)"
   ]
  },
  {
   "cell_type": "markdown",
   "metadata": {},
   "source": [
    "### Ahora analizaremos procesaremos el texto y analizaremos las frecuencias relativas de todas sus palabras"
   ]
  },
  {
   "cell_type": "code",
   "execution_count": null,
   "metadata": {},
   "outputs": [],
   "source": [
    "import nltk\n",
    "\n",
    "with open(\"niebla.txt\", \"r\") as f:\n",
    "    text = f.read()\n",
    "    \n",
    "tokens = [t for t in text.split()]\n",
    "\n",
    "\"\"\"\n",
    "La anterior instrucción es una\n",
    "forma abreviada de hacer esto mismo:\n",
    "\n",
    "tokens = []\n",
    "for t in text.split():\n",
    "    tokens.append(t)\n",
    "\"\"\"\n",
    "\n",
    "freq = nltk.FreqDist(tokens)\n",
    "\n",
    "for key,val in freq.items():\n",
    "    print(str(key) + ': ' + str(val))"
   ]
  },
  {
   "cell_type": "markdown",
   "metadata": {},
   "source": [
    "### Ahora mostraremos un gráfico con esas frecuencias"
   ]
  },
  {
   "cell_type": "code",
   "execution_count": null,
   "metadata": {},
   "outputs": [],
   "source": [
    "freq.plot(30, cumulative=False)"
   ]
  },
  {
   "cell_type": "markdown",
   "metadata": {},
   "source": [
    "Prueben cambiando el argumento que dice `30` por otros mayores o menores. ¿Qué pasa?\n",
    "\n",
    "Ahora prueben cambiando el valor de `cumulative` a `True`. ¿Qué pasa ahora?\n",
    "\n",
    "(Para más detalles sobre este método, cf. http://www.nltk.org/api/nltk.html?highlight=plot#nltk.probability.FreqDist.plot)\n"
   ]
  },
  {
   "cell_type": "markdown",
   "metadata": {},
   "source": [
    "### Palabras vacías (*stop words*)\n",
    "\n",
    "Vamos ahora a descontar las *stop words* de nuestro análisis.\n",
    "\n",
    "Primero veamos cuáles son las del español:"
   ]
  },
  {
   "cell_type": "code",
   "execution_count": null,
   "metadata": {},
   "outputs": [],
   "source": [
    "import nltk\n",
    "from nltk.corpus import stopwords\n",
    "\n",
    "stopwords.words('spanish')\n",
    "stopsp = stopwords.words('spanish')\n",
    "\n",
    "print(stopsp)"
   ]
  },
  {
   "cell_type": "markdown",
   "metadata": {},
   "source": [
    "#### Lo que vamos a hacer ahora es quitar todas esas *stop words* de nuestro texto, para poder procesarlo de nuevo"
   ]
  },
  {
   "cell_type": "code",
   "execution_count": null,
   "metadata": {},
   "outputs": [],
   "source": [
    "tokens = [t for t in text.split()]\n",
    "\n",
    "ntokens = []\n",
    "\n",
    "for t in tokens:\n",
    "        if t.lower() not in stopsp:   # usamos \"t.lower()\" porque queremos minúsculas\n",
    "            ntokens.append(t)\n",
    "\n",
    "print(ntokens)"
   ]
  },
  {
   "cell_type": "markdown",
   "metadata": {},
   "source": [
    "#### ¡Listo! Ahora procesamos frecuencias nuevamente:"
   ]
  },
  {
   "cell_type": "code",
   "execution_count": null,
   "metadata": {},
   "outputs": [],
   "source": [
    "freq = nltk.FreqDist(ntokens)\n",
    " \n",
    "for key,val in freq.items():\n",
    "    print (str(key) + ':' + str(val))"
   ]
  },
  {
   "cell_type": "markdown",
   "metadata": {},
   "source": [
    "#### Y creamos el gráfico"
   ]
  },
  {
   "cell_type": "code",
   "execution_count": null,
   "metadata": {},
   "outputs": [],
   "source": [
    "freq.plot(20, cumulative=False)"
   ]
  },
  {
   "cell_type": "markdown",
   "metadata": {},
   "source": [
    "#### Aún hay bastante que hacer para limpiar el texto\n",
    "Pero baste esto por el momento..."
   ]
  }
 ],
 "metadata": {
  "kernelspec": {
   "display_name": "Python 3",
   "language": "python",
   "name": "python3"
  },
  "language_info": {
   "codemirror_mode": {
    "name": "ipython",
    "version": 3
   },
   "file_extension": ".py",
   "mimetype": "text/x-python",
   "name": "python",
   "nbconvert_exporter": "python",
   "pygments_lexer": "ipython3",
   "version": "3.7.3"
  }
 },
 "nbformat": 4,
 "nbformat_minor": 2
}
